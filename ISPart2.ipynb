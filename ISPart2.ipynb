{
 "cells": [
  {
   "cell_type": "markdown",
   "id": "4478c039",
   "metadata": {},
   "source": [
    "# Predicting NBA Game Outcomes with Machine Learning - Notebook 2\n",
    "Ishan Sheth, Independent Study, Fall 2021"
   ]
  },
  {
   "cell_type": "markdown",
   "id": "9b473024",
   "metadata": {},
   "source": [
    "In notebook 2 of the project, I continued to manipulate my data tables, creating my moving averages for each game. I also created some histograms to visualize some of my data and see any trends. Since this notebook consisted of data collection and modification, it is still part of Part 1 of the project, referenced in the last notebook."
   ]
  },
  {
   "cell_type": "markdown",
   "id": "e8ef6d74",
   "metadata": {},
   "source": [
    "### 1.5 - Import Libraries and nba_api\n",
    "Here, I imported the Python libraries that I will use for this notebook. Pandas, Numpy, Matplotlib, and Seaborn are all common libraries used for data science while nba_api and requests will allow me to get the data that I need."
   ]
  },
  {
   "cell_type": "code",
   "execution_count": 1,
   "id": "c1eaa606",
   "metadata": {},
   "outputs": [],
   "source": [
    "import nba_api as nba\n",
    "import pandas as pd\n",
    "import numpy as np\n",
    "import requests\n",
    "import seaborn as sn\n",
    "import matplotlib.pyplot as plt"
   ]
  },
  {
   "cell_type": "markdown",
   "id": "b1622c53",
   "metadata": {},
   "source": [
    "### 1.6 - Read in the Data from the Previous Notebook and Make Some Minor Data Modifications"
   ]
  },
  {
   "cell_type": "code",
   "execution_count": 2,
   "id": "4dadb83d",
   "metadata": {},
   "outputs": [
    {
     "data": {
      "text/html": [
       "<div>\n",
       "<style scoped>\n",
       "    .dataframe tbody tr th:only-of-type {\n",
       "        vertical-align: middle;\n",
       "    }\n",
       "\n",
       "    .dataframe tbody tr th {\n",
       "        vertical-align: top;\n",
       "    }\n",
       "\n",
       "    .dataframe thead th {\n",
       "        text-align: right;\n",
       "    }\n",
       "</style>\n",
       "<table border=\"1\" class=\"dataframe\">\n",
       "  <thead>\n",
       "    <tr style=\"text-align: right;\">\n",
       "      <th></th>\n",
       "      <th>level_0</th>\n",
       "      <th>index</th>\n",
       "      <th>SEASON_ID</th>\n",
       "      <th>TEAM_ID</th>\n",
       "      <th>TEAM_ABBREVIATION</th>\n",
       "      <th>TEAM_NAME</th>\n",
       "      <th>GAME_ID</th>\n",
       "      <th>GAME_DATE</th>\n",
       "      <th>MATCHUP</th>\n",
       "      <th>WL</th>\n",
       "      <th>...</th>\n",
       "      <th>TM_TOV_PCT</th>\n",
       "      <th>EFG_PCT</th>\n",
       "      <th>TS_PCT</th>\n",
       "      <th>USG_PCT</th>\n",
       "      <th>E_USG_PCT</th>\n",
       "      <th>E_PACE</th>\n",
       "      <th>PACE</th>\n",
       "      <th>PACE_PER40</th>\n",
       "      <th>POSS</th>\n",
       "      <th>PIE</th>\n",
       "    </tr>\n",
       "  </thead>\n",
       "  <tbody>\n",
       "    <tr>\n",
       "      <th>0</th>\n",
       "      <td>0</td>\n",
       "      <td>3</td>\n",
       "      <td>22018</td>\n",
       "      <td>1610612738</td>\n",
       "      <td>BOS</td>\n",
       "      <td>Boston Celtics</td>\n",
       "      <td>21800001</td>\n",
       "      <td>2018-10-16</td>\n",
       "      <td>BOS vs. PHI</td>\n",
       "      <td>1</td>\n",
       "      <td>...</td>\n",
       "      <td>14.3</td>\n",
       "      <td>0.490</td>\n",
       "      <td>0.509</td>\n",
       "      <td>1.0</td>\n",
       "      <td>0.198</td>\n",
       "      <td>106.64</td>\n",
       "      <td>105.5</td>\n",
       "      <td>87.92</td>\n",
       "      <td>105</td>\n",
       "      <td>0.595</td>\n",
       "    </tr>\n",
       "    <tr>\n",
       "      <th>1</th>\n",
       "      <td>1</td>\n",
       "      <td>2</td>\n",
       "      <td>22018</td>\n",
       "      <td>1610612755</td>\n",
       "      <td>PHI</td>\n",
       "      <td>Philadelphia 76ers</td>\n",
       "      <td>21800001</td>\n",
       "      <td>2018-10-16</td>\n",
       "      <td>PHI @ BOS</td>\n",
       "      <td>0</td>\n",
       "      <td>...</td>\n",
       "      <td>15.1</td>\n",
       "      <td>0.420</td>\n",
       "      <td>0.448</td>\n",
       "      <td>1.0</td>\n",
       "      <td>0.200</td>\n",
       "      <td>106.64</td>\n",
       "      <td>105.5</td>\n",
       "      <td>87.92</td>\n",
       "      <td>106</td>\n",
       "      <td>0.405</td>\n",
       "    </tr>\n",
       "    <tr>\n",
       "      <th>2</th>\n",
       "      <td>2</td>\n",
       "      <td>1</td>\n",
       "      <td>22018</td>\n",
       "      <td>1610612744</td>\n",
       "      <td>GSW</td>\n",
       "      <td>Golden State Warriors</td>\n",
       "      <td>21800002</td>\n",
       "      <td>2018-10-16</td>\n",
       "      <td>GSW vs. OKC</td>\n",
       "      <td>1</td>\n",
       "      <td>...</td>\n",
       "      <td>20.4</td>\n",
       "      <td>0.479</td>\n",
       "      <td>0.525</td>\n",
       "      <td>1.0</td>\n",
       "      <td>0.199</td>\n",
       "      <td>106.60</td>\n",
       "      <td>103.0</td>\n",
       "      <td>85.83</td>\n",
       "      <td>103</td>\n",
       "      <td>0.582</td>\n",
       "    </tr>\n",
       "    <tr>\n",
       "      <th>3</th>\n",
       "      <td>3</td>\n",
       "      <td>0</td>\n",
       "      <td>22018</td>\n",
       "      <td>1610612760</td>\n",
       "      <td>OKC</td>\n",
       "      <td>Oklahoma City Thunder</td>\n",
       "      <td>21800002</td>\n",
       "      <td>2018-10-16</td>\n",
       "      <td>OKC @ GSW</td>\n",
       "      <td>0</td>\n",
       "      <td>...</td>\n",
       "      <td>14.6</td>\n",
       "      <td>0.418</td>\n",
       "      <td>0.466</td>\n",
       "      <td>1.0</td>\n",
       "      <td>0.200</td>\n",
       "      <td>106.60</td>\n",
       "      <td>103.0</td>\n",
       "      <td>85.83</td>\n",
       "      <td>103</td>\n",
       "      <td>0.418</td>\n",
       "    </tr>\n",
       "    <tr>\n",
       "      <th>4</th>\n",
       "      <td>4</td>\n",
       "      <td>22</td>\n",
       "      <td>22018</td>\n",
       "      <td>1610612766</td>\n",
       "      <td>CHA</td>\n",
       "      <td>Charlotte Hornets</td>\n",
       "      <td>21800003</td>\n",
       "      <td>2018-10-17</td>\n",
       "      <td>CHA vs. MIL</td>\n",
       "      <td>0</td>\n",
       "      <td>...</td>\n",
       "      <td>10.6</td>\n",
       "      <td>0.533</td>\n",
       "      <td>0.551</td>\n",
       "      <td>1.0</td>\n",
       "      <td>0.199</td>\n",
       "      <td>103.74</td>\n",
       "      <td>103.5</td>\n",
       "      <td>86.25</td>\n",
       "      <td>104</td>\n",
       "      <td>0.473</td>\n",
       "    </tr>\n",
       "  </tbody>\n",
       "</table>\n",
       "<p>5 rows × 62 columns</p>\n",
       "</div>"
      ],
      "text/plain": [
       "   level_0  index  SEASON_ID     TEAM_ID TEAM_ABBREVIATION  \\\n",
       "0        0      3      22018  1610612738               BOS   \n",
       "1        1      2      22018  1610612755               PHI   \n",
       "2        2      1      22018  1610612744               GSW   \n",
       "3        3      0      22018  1610612760               OKC   \n",
       "4        4     22      22018  1610612766               CHA   \n",
       "\n",
       "               TEAM_NAME   GAME_ID   GAME_DATE      MATCHUP  WL  ...  \\\n",
       "0         Boston Celtics  21800001  2018-10-16  BOS vs. PHI   1  ...   \n",
       "1     Philadelphia 76ers  21800001  2018-10-16    PHI @ BOS   0  ...   \n",
       "2  Golden State Warriors  21800002  2018-10-16  GSW vs. OKC   1  ...   \n",
       "3  Oklahoma City Thunder  21800002  2018-10-16    OKC @ GSW   0  ...   \n",
       "4      Charlotte Hornets  21800003  2018-10-17  CHA vs. MIL   0  ...   \n",
       "\n",
       "   TM_TOV_PCT  EFG_PCT  TS_PCT  USG_PCT  E_USG_PCT  E_PACE   PACE  PACE_PER40  \\\n",
       "0        14.3    0.490   0.509      1.0      0.198  106.64  105.5       87.92   \n",
       "1        15.1    0.420   0.448      1.0      0.200  106.64  105.5       87.92   \n",
       "2        20.4    0.479   0.525      1.0      0.199  106.60  103.0       85.83   \n",
       "3        14.6    0.418   0.466      1.0      0.200  106.60  103.0       85.83   \n",
       "4        10.6    0.533   0.551      1.0      0.199  103.74  103.5       86.25   \n",
       "\n",
       "   POSS    PIE  \n",
       "0   105  0.595  \n",
       "1   106  0.405  \n",
       "2   103  0.582  \n",
       "3   103  0.418  \n",
       "4   104  0.473  \n",
       "\n",
       "[5 rows x 62 columns]"
      ]
     },
     "execution_count": 2,
     "metadata": {},
     "output_type": "execute_result"
    }
   ],
   "source": [
    "df = pd.read_csv('big_df.csv')\n",
    "df.head()"
   ]
  },
  {
   "cell_type": "markdown",
   "id": "ea22f12c",
   "metadata": {},
   "source": [
    "Here, I am changing the matchup category to display whether or not a team was the home team (1) or the away team (0)"
   ]
  },
  {
   "cell_type": "code",
   "execution_count": 5,
   "id": "ea8f6ea6",
   "metadata": {},
   "outputs": [
    {
     "data": {
      "text/html": [
       "<div>\n",
       "<style scoped>\n",
       "    .dataframe tbody tr th:only-of-type {\n",
       "        vertical-align: middle;\n",
       "    }\n",
       "\n",
       "    .dataframe tbody tr th {\n",
       "        vertical-align: top;\n",
       "    }\n",
       "\n",
       "    .dataframe thead th {\n",
       "        text-align: right;\n",
       "    }\n",
       "</style>\n",
       "<table border=\"1\" class=\"dataframe\">\n",
       "  <thead>\n",
       "    <tr style=\"text-align: right;\">\n",
       "      <th></th>\n",
       "      <th>level_0</th>\n",
       "      <th>index</th>\n",
       "      <th>SEASON_ID</th>\n",
       "      <th>TEAM_ID</th>\n",
       "      <th>TEAM_ABBREVIATION</th>\n",
       "      <th>TEAM_NAME</th>\n",
       "      <th>GAME_ID</th>\n",
       "      <th>GAME_DATE</th>\n",
       "      <th>MATCHUP</th>\n",
       "      <th>WL</th>\n",
       "      <th>...</th>\n",
       "      <th>TM_TOV_PCT</th>\n",
       "      <th>EFG_PCT</th>\n",
       "      <th>TS_PCT</th>\n",
       "      <th>USG_PCT</th>\n",
       "      <th>E_USG_PCT</th>\n",
       "      <th>E_PACE</th>\n",
       "      <th>PACE</th>\n",
       "      <th>PACE_PER40</th>\n",
       "      <th>POSS</th>\n",
       "      <th>PIE</th>\n",
       "    </tr>\n",
       "  </thead>\n",
       "  <tbody>\n",
       "    <tr>\n",
       "      <th>0</th>\n",
       "      <td>0</td>\n",
       "      <td>3</td>\n",
       "      <td>22018</td>\n",
       "      <td>1610612738</td>\n",
       "      <td>BOS</td>\n",
       "      <td>Boston Celtics</td>\n",
       "      <td>21800001</td>\n",
       "      <td>2018-10-16</td>\n",
       "      <td>1</td>\n",
       "      <td>1</td>\n",
       "      <td>...</td>\n",
       "      <td>14.3</td>\n",
       "      <td>0.490</td>\n",
       "      <td>0.509</td>\n",
       "      <td>1.0</td>\n",
       "      <td>0.198</td>\n",
       "      <td>106.64</td>\n",
       "      <td>105.5</td>\n",
       "      <td>87.92</td>\n",
       "      <td>105</td>\n",
       "      <td>0.595</td>\n",
       "    </tr>\n",
       "    <tr>\n",
       "      <th>1</th>\n",
       "      <td>1</td>\n",
       "      <td>2</td>\n",
       "      <td>22018</td>\n",
       "      <td>1610612755</td>\n",
       "      <td>PHI</td>\n",
       "      <td>Philadelphia 76ers</td>\n",
       "      <td>21800001</td>\n",
       "      <td>2018-10-16</td>\n",
       "      <td>0</td>\n",
       "      <td>0</td>\n",
       "      <td>...</td>\n",
       "      <td>15.1</td>\n",
       "      <td>0.420</td>\n",
       "      <td>0.448</td>\n",
       "      <td>1.0</td>\n",
       "      <td>0.200</td>\n",
       "      <td>106.64</td>\n",
       "      <td>105.5</td>\n",
       "      <td>87.92</td>\n",
       "      <td>106</td>\n",
       "      <td>0.405</td>\n",
       "    </tr>\n",
       "    <tr>\n",
       "      <th>2</th>\n",
       "      <td>2</td>\n",
       "      <td>1</td>\n",
       "      <td>22018</td>\n",
       "      <td>1610612744</td>\n",
       "      <td>GSW</td>\n",
       "      <td>Golden State Warriors</td>\n",
       "      <td>21800002</td>\n",
       "      <td>2018-10-16</td>\n",
       "      <td>1</td>\n",
       "      <td>1</td>\n",
       "      <td>...</td>\n",
       "      <td>20.4</td>\n",
       "      <td>0.479</td>\n",
       "      <td>0.525</td>\n",
       "      <td>1.0</td>\n",
       "      <td>0.199</td>\n",
       "      <td>106.60</td>\n",
       "      <td>103.0</td>\n",
       "      <td>85.83</td>\n",
       "      <td>103</td>\n",
       "      <td>0.582</td>\n",
       "    </tr>\n",
       "    <tr>\n",
       "      <th>3</th>\n",
       "      <td>3</td>\n",
       "      <td>0</td>\n",
       "      <td>22018</td>\n",
       "      <td>1610612760</td>\n",
       "      <td>OKC</td>\n",
       "      <td>Oklahoma City Thunder</td>\n",
       "      <td>21800002</td>\n",
       "      <td>2018-10-16</td>\n",
       "      <td>0</td>\n",
       "      <td>0</td>\n",
       "      <td>...</td>\n",
       "      <td>14.6</td>\n",
       "      <td>0.418</td>\n",
       "      <td>0.466</td>\n",
       "      <td>1.0</td>\n",
       "      <td>0.200</td>\n",
       "      <td>106.60</td>\n",
       "      <td>103.0</td>\n",
       "      <td>85.83</td>\n",
       "      <td>103</td>\n",
       "      <td>0.418</td>\n",
       "    </tr>\n",
       "    <tr>\n",
       "      <th>4</th>\n",
       "      <td>4</td>\n",
       "      <td>22</td>\n",
       "      <td>22018</td>\n",
       "      <td>1610612766</td>\n",
       "      <td>CHA</td>\n",
       "      <td>Charlotte Hornets</td>\n",
       "      <td>21800003</td>\n",
       "      <td>2018-10-17</td>\n",
       "      <td>1</td>\n",
       "      <td>0</td>\n",
       "      <td>...</td>\n",
       "      <td>10.6</td>\n",
       "      <td>0.533</td>\n",
       "      <td>0.551</td>\n",
       "      <td>1.0</td>\n",
       "      <td>0.199</td>\n",
       "      <td>103.74</td>\n",
       "      <td>103.5</td>\n",
       "      <td>86.25</td>\n",
       "      <td>104</td>\n",
       "      <td>0.473</td>\n",
       "    </tr>\n",
       "  </tbody>\n",
       "</table>\n",
       "<p>5 rows × 62 columns</p>\n",
       "</div>"
      ],
      "text/plain": [
       "   level_0  index  SEASON_ID     TEAM_ID TEAM_ABBREVIATION  \\\n",
       "0        0      3      22018  1610612738               BOS   \n",
       "1        1      2      22018  1610612755               PHI   \n",
       "2        2      1      22018  1610612744               GSW   \n",
       "3        3      0      22018  1610612760               OKC   \n",
       "4        4     22      22018  1610612766               CHA   \n",
       "\n",
       "               TEAM_NAME   GAME_ID   GAME_DATE MATCHUP  WL  ...  TM_TOV_PCT  \\\n",
       "0         Boston Celtics  21800001  2018-10-16       1   1  ...        14.3   \n",
       "1     Philadelphia 76ers  21800001  2018-10-16       0   0  ...        15.1   \n",
       "2  Golden State Warriors  21800002  2018-10-16       1   1  ...        20.4   \n",
       "3  Oklahoma City Thunder  21800002  2018-10-16       0   0  ...        14.6   \n",
       "4      Charlotte Hornets  21800003  2018-10-17       1   0  ...        10.6   \n",
       "\n",
       "   EFG_PCT  TS_PCT  USG_PCT  E_USG_PCT  E_PACE   PACE  PACE_PER40  POSS    PIE  \n",
       "0    0.490   0.509      1.0      0.198  106.64  105.5       87.92   105  0.595  \n",
       "1    0.420   0.448      1.0      0.200  106.64  105.5       87.92   106  0.405  \n",
       "2    0.479   0.525      1.0      0.199  106.60  103.0       85.83   103  0.582  \n",
       "3    0.418   0.466      1.0      0.200  106.60  103.0       85.83   103  0.418  \n",
       "4    0.533   0.551      1.0      0.199  103.74  103.5       86.25   104  0.473  \n",
       "\n",
       "[5 rows x 62 columns]"
      ]
     },
     "execution_count": 5,
     "metadata": {},
     "output_type": "execute_result"
    }
   ],
   "source": [
    "substring = '@'\n",
    "substring2 = 'vs.'\n",
    "for part in df['MATCHUP']:\n",
    "    if substring in part:\n",
    "        df = df.replace(to_replace = part,\n",
    "                 value =\"0\")\n",
    "    if substring2 in part:\n",
    "        df = df.replace(to_replace = part, value = '1')\n",
    "df.head()"
   ]
  },
  {
   "cell_type": "code",
   "execution_count": 6,
   "id": "0582842d",
   "metadata": {},
   "outputs": [
    {
     "data": {
      "text/html": [
       "<div>\n",
       "<style scoped>\n",
       "    .dataframe tbody tr th:only-of-type {\n",
       "        vertical-align: middle;\n",
       "    }\n",
       "\n",
       "    .dataframe tbody tr th {\n",
       "        vertical-align: top;\n",
       "    }\n",
       "\n",
       "    .dataframe thead th {\n",
       "        text-align: right;\n",
       "    }\n",
       "</style>\n",
       "<table border=\"1\" class=\"dataframe\">\n",
       "  <thead>\n",
       "    <tr style=\"text-align: right;\">\n",
       "      <th></th>\n",
       "      <th>level_0</th>\n",
       "      <th>index</th>\n",
       "      <th>SEASON_ID</th>\n",
       "      <th>TEAM_ID</th>\n",
       "      <th>TEAM_ABBREVIATION</th>\n",
       "      <th>TEAM_NAME</th>\n",
       "      <th>GAME_ID</th>\n",
       "      <th>GAME_DATE</th>\n",
       "      <th>MATCHUP</th>\n",
       "      <th>WL</th>\n",
       "      <th>...</th>\n",
       "      <th>TM_TOV_PCT</th>\n",
       "      <th>EFG_PCT</th>\n",
       "      <th>TS_PCT</th>\n",
       "      <th>USG_PCT</th>\n",
       "      <th>E_USG_PCT</th>\n",
       "      <th>E_PACE</th>\n",
       "      <th>PACE</th>\n",
       "      <th>PACE_PER40</th>\n",
       "      <th>POSS</th>\n",
       "      <th>PIE</th>\n",
       "    </tr>\n",
       "  </thead>\n",
       "  <tbody>\n",
       "    <tr>\n",
       "      <th>0</th>\n",
       "      <td>0</td>\n",
       "      <td>3</td>\n",
       "      <td>22018</td>\n",
       "      <td>1610612738</td>\n",
       "      <td>BOS</td>\n",
       "      <td>Boston Celtics</td>\n",
       "      <td>21800001</td>\n",
       "      <td>2018-10-16</td>\n",
       "      <td>1</td>\n",
       "      <td>1</td>\n",
       "      <td>...</td>\n",
       "      <td>14.3</td>\n",
       "      <td>0.490</td>\n",
       "      <td>0.509</td>\n",
       "      <td>1.0</td>\n",
       "      <td>0.198</td>\n",
       "      <td>106.64</td>\n",
       "      <td>105.5</td>\n",
       "      <td>87.92</td>\n",
       "      <td>105</td>\n",
       "      <td>0.595</td>\n",
       "    </tr>\n",
       "    <tr>\n",
       "      <th>1</th>\n",
       "      <td>1</td>\n",
       "      <td>2</td>\n",
       "      <td>22018</td>\n",
       "      <td>1610612755</td>\n",
       "      <td>PHI</td>\n",
       "      <td>Philadelphia 76ers</td>\n",
       "      <td>21800001</td>\n",
       "      <td>2018-10-16</td>\n",
       "      <td>0</td>\n",
       "      <td>0</td>\n",
       "      <td>...</td>\n",
       "      <td>15.1</td>\n",
       "      <td>0.420</td>\n",
       "      <td>0.448</td>\n",
       "      <td>1.0</td>\n",
       "      <td>0.200</td>\n",
       "      <td>106.64</td>\n",
       "      <td>105.5</td>\n",
       "      <td>87.92</td>\n",
       "      <td>106</td>\n",
       "      <td>0.405</td>\n",
       "    </tr>\n",
       "    <tr>\n",
       "      <th>2</th>\n",
       "      <td>2</td>\n",
       "      <td>1</td>\n",
       "      <td>22018</td>\n",
       "      <td>1610612744</td>\n",
       "      <td>GSW</td>\n",
       "      <td>Golden State Warriors</td>\n",
       "      <td>21800002</td>\n",
       "      <td>2018-10-16</td>\n",
       "      <td>1</td>\n",
       "      <td>1</td>\n",
       "      <td>...</td>\n",
       "      <td>20.4</td>\n",
       "      <td>0.479</td>\n",
       "      <td>0.525</td>\n",
       "      <td>1.0</td>\n",
       "      <td>0.199</td>\n",
       "      <td>106.60</td>\n",
       "      <td>103.0</td>\n",
       "      <td>85.83</td>\n",
       "      <td>103</td>\n",
       "      <td>0.582</td>\n",
       "    </tr>\n",
       "    <tr>\n",
       "      <th>3</th>\n",
       "      <td>3</td>\n",
       "      <td>0</td>\n",
       "      <td>22018</td>\n",
       "      <td>1610612760</td>\n",
       "      <td>OKC</td>\n",
       "      <td>Oklahoma City Thunder</td>\n",
       "      <td>21800002</td>\n",
       "      <td>2018-10-16</td>\n",
       "      <td>0</td>\n",
       "      <td>0</td>\n",
       "      <td>...</td>\n",
       "      <td>14.6</td>\n",
       "      <td>0.418</td>\n",
       "      <td>0.466</td>\n",
       "      <td>1.0</td>\n",
       "      <td>0.200</td>\n",
       "      <td>106.60</td>\n",
       "      <td>103.0</td>\n",
       "      <td>85.83</td>\n",
       "      <td>103</td>\n",
       "      <td>0.418</td>\n",
       "    </tr>\n",
       "    <tr>\n",
       "      <th>4</th>\n",
       "      <td>4</td>\n",
       "      <td>22</td>\n",
       "      <td>22018</td>\n",
       "      <td>1610612766</td>\n",
       "      <td>CHA</td>\n",
       "      <td>Charlotte Hornets</td>\n",
       "      <td>21800003</td>\n",
       "      <td>2018-10-17</td>\n",
       "      <td>1</td>\n",
       "      <td>0</td>\n",
       "      <td>...</td>\n",
       "      <td>10.6</td>\n",
       "      <td>0.533</td>\n",
       "      <td>0.551</td>\n",
       "      <td>1.0</td>\n",
       "      <td>0.199</td>\n",
       "      <td>103.74</td>\n",
       "      <td>103.5</td>\n",
       "      <td>86.25</td>\n",
       "      <td>104</td>\n",
       "      <td>0.473</td>\n",
       "    </tr>\n",
       "  </tbody>\n",
       "</table>\n",
       "<p>5 rows × 62 columns</p>\n",
       "</div>"
      ],
      "text/plain": [
       "   level_0  index  SEASON_ID     TEAM_ID TEAM_ABBREVIATION  \\\n",
       "0        0      3      22018  1610612738               BOS   \n",
       "1        1      2      22018  1610612755               PHI   \n",
       "2        2      1      22018  1610612744               GSW   \n",
       "3        3      0      22018  1610612760               OKC   \n",
       "4        4     22      22018  1610612766               CHA   \n",
       "\n",
       "               TEAM_NAME   GAME_ID   GAME_DATE  MATCHUP  WL  ...  TM_TOV_PCT  \\\n",
       "0         Boston Celtics  21800001  2018-10-16        1   1  ...        14.3   \n",
       "1     Philadelphia 76ers  21800001  2018-10-16        0   0  ...        15.1   \n",
       "2  Golden State Warriors  21800002  2018-10-16        1   1  ...        20.4   \n",
       "3  Oklahoma City Thunder  21800002  2018-10-16        0   0  ...        14.6   \n",
       "4      Charlotte Hornets  21800003  2018-10-17        1   0  ...        10.6   \n",
       "\n",
       "   EFG_PCT  TS_PCT  USG_PCT  E_USG_PCT  E_PACE   PACE  PACE_PER40  POSS    PIE  \n",
       "0    0.490   0.509      1.0      0.198  106.64  105.5       87.92   105  0.595  \n",
       "1    0.420   0.448      1.0      0.200  106.64  105.5       87.92   106  0.405  \n",
       "2    0.479   0.525      1.0      0.199  106.60  103.0       85.83   103  0.582  \n",
       "3    0.418   0.466      1.0      0.200  106.60  103.0       85.83   103  0.418  \n",
       "4    0.533   0.551      1.0      0.199  103.74  103.5       86.25   104  0.473  \n",
       "\n",
       "[5 rows x 62 columns]"
      ]
     },
     "execution_count": 6,
     "metadata": {},
     "output_type": "execute_result"
    }
   ],
   "source": [
    "df['MATCHUP'] = pd.to_numeric(df['MATCHUP'])\n",
    "df.head()"
   ]
  },
  {
   "cell_type": "code",
   "execution_count": 7,
   "id": "60bd2ca2",
   "metadata": {},
   "outputs": [
    {
     "data": {
      "text/html": [
       "<div>\n",
       "<style scoped>\n",
       "    .dataframe tbody tr th:only-of-type {\n",
       "        vertical-align: middle;\n",
       "    }\n",
       "\n",
       "    .dataframe tbody tr th {\n",
       "        vertical-align: top;\n",
       "    }\n",
       "\n",
       "    .dataframe thead th {\n",
       "        text-align: right;\n",
       "    }\n",
       "</style>\n",
       "<table border=\"1\" class=\"dataframe\">\n",
       "  <thead>\n",
       "    <tr style=\"text-align: right;\">\n",
       "      <th></th>\n",
       "      <th>level_0</th>\n",
       "      <th>index</th>\n",
       "      <th>SEASON_ID</th>\n",
       "      <th>TEAM_ID</th>\n",
       "      <th>TEAM_ABBREVIATION</th>\n",
       "      <th>TEAM_NAME</th>\n",
       "      <th>GAME_ID</th>\n",
       "      <th>GAME_DATE</th>\n",
       "      <th>MATCHUP</th>\n",
       "      <th>WL</th>\n",
       "      <th>...</th>\n",
       "      <th>TM_TOV_PCT</th>\n",
       "      <th>EFG_PCT</th>\n",
       "      <th>TS_PCT</th>\n",
       "      <th>USG_PCT</th>\n",
       "      <th>E_USG_PCT</th>\n",
       "      <th>E_PACE</th>\n",
       "      <th>PACE</th>\n",
       "      <th>PACE_PER40</th>\n",
       "      <th>POSS</th>\n",
       "      <th>PIE</th>\n",
       "    </tr>\n",
       "  </thead>\n",
       "  <tbody>\n",
       "    <tr>\n",
       "      <th>12</th>\n",
       "      <td>12</td>\n",
       "      <td>7</td>\n",
       "      <td>22018</td>\n",
       "      <td>1610612737</td>\n",
       "      <td>ATL</td>\n",
       "      <td>Atlanta Hawks</td>\n",
       "      <td>21800007</td>\n",
       "      <td>2018-10-17</td>\n",
       "      <td>0</td>\n",
       "      <td>0</td>\n",
       "      <td>...</td>\n",
       "      <td>21.2</td>\n",
       "      <td>0.511</td>\n",
       "      <td>0.546</td>\n",
       "      <td>1.0</td>\n",
       "      <td>0.200</td>\n",
       "      <td>116.78</td>\n",
       "      <td>112.5</td>\n",
       "      <td>93.75</td>\n",
       "      <td>113</td>\n",
       "      <td>0.405</td>\n",
       "    </tr>\n",
       "    <tr>\n",
       "      <th>38</th>\n",
       "      <td>38</td>\n",
       "      <td>47</td>\n",
       "      <td>22018</td>\n",
       "      <td>1610612737</td>\n",
       "      <td>ATL</td>\n",
       "      <td>Atlanta Hawks</td>\n",
       "      <td>21800020</td>\n",
       "      <td>2018-10-19</td>\n",
       "      <td>0</td>\n",
       "      <td>0</td>\n",
       "      <td>...</td>\n",
       "      <td>17.9</td>\n",
       "      <td>0.578</td>\n",
       "      <td>0.592</td>\n",
       "      <td>1.0</td>\n",
       "      <td>0.200</td>\n",
       "      <td>108.38</td>\n",
       "      <td>106.5</td>\n",
       "      <td>88.75</td>\n",
       "      <td>106</td>\n",
       "      <td>0.418</td>\n",
       "    </tr>\n",
       "    <tr>\n",
       "      <th>70</th>\n",
       "      <td>70</td>\n",
       "      <td>72</td>\n",
       "      <td>22018</td>\n",
       "      <td>1610612737</td>\n",
       "      <td>ATL</td>\n",
       "      <td>Atlanta Hawks</td>\n",
       "      <td>21800036</td>\n",
       "      <td>2018-10-21</td>\n",
       "      <td>0</td>\n",
       "      <td>1</td>\n",
       "      <td>...</td>\n",
       "      <td>11.3</td>\n",
       "      <td>0.602</td>\n",
       "      <td>0.625</td>\n",
       "      <td>1.0</td>\n",
       "      <td>0.196</td>\n",
       "      <td>108.76</td>\n",
       "      <td>105.5</td>\n",
       "      <td>87.92</td>\n",
       "      <td>106</td>\n",
       "      <td>0.618</td>\n",
       "    </tr>\n",
       "    <tr>\n",
       "      <th>102</th>\n",
       "      <td>102</td>\n",
       "      <td>119</td>\n",
       "      <td>22018</td>\n",
       "      <td>1610612737</td>\n",
       "      <td>ATL</td>\n",
       "      <td>Atlanta Hawks</td>\n",
       "      <td>21800052</td>\n",
       "      <td>2018-10-24</td>\n",
       "      <td>1</td>\n",
       "      <td>1</td>\n",
       "      <td>...</td>\n",
       "      <td>13.6</td>\n",
       "      <td>0.489</td>\n",
       "      <td>0.530</td>\n",
       "      <td>1.0</td>\n",
       "      <td>0.202</td>\n",
       "      <td>110.04</td>\n",
       "      <td>111.0</td>\n",
       "      <td>92.50</td>\n",
       "      <td>110</td>\n",
       "      <td>0.534</td>\n",
       "    </tr>\n",
       "    <tr>\n",
       "      <th>150</th>\n",
       "      <td>150</td>\n",
       "      <td>158</td>\n",
       "      <td>22018</td>\n",
       "      <td>1610612737</td>\n",
       "      <td>ATL</td>\n",
       "      <td>Atlanta Hawks</td>\n",
       "      <td>21800076</td>\n",
       "      <td>2018-10-27</td>\n",
       "      <td>1</td>\n",
       "      <td>0</td>\n",
       "      <td>...</td>\n",
       "      <td>20.8</td>\n",
       "      <td>0.393</td>\n",
       "      <td>0.452</td>\n",
       "      <td>1.0</td>\n",
       "      <td>0.200</td>\n",
       "      <td>105.08</td>\n",
       "      <td>107.0</td>\n",
       "      <td>89.17</td>\n",
       "      <td>106</td>\n",
       "      <td>0.410</td>\n",
       "    </tr>\n",
       "  </tbody>\n",
       "</table>\n",
       "<p>5 rows × 62 columns</p>\n",
       "</div>"
      ],
      "text/plain": [
       "     level_0  index  SEASON_ID     TEAM_ID TEAM_ABBREVIATION      TEAM_NAME  \\\n",
       "12        12      7      22018  1610612737               ATL  Atlanta Hawks   \n",
       "38        38     47      22018  1610612737               ATL  Atlanta Hawks   \n",
       "70        70     72      22018  1610612737               ATL  Atlanta Hawks   \n",
       "102      102    119      22018  1610612737               ATL  Atlanta Hawks   \n",
       "150      150    158      22018  1610612737               ATL  Atlanta Hawks   \n",
       "\n",
       "      GAME_ID   GAME_DATE  MATCHUP  WL  ...  TM_TOV_PCT  EFG_PCT  TS_PCT  \\\n",
       "12   21800007  2018-10-17        0   0  ...        21.2    0.511   0.546   \n",
       "38   21800020  2018-10-19        0   0  ...        17.9    0.578   0.592   \n",
       "70   21800036  2018-10-21        0   1  ...        11.3    0.602   0.625   \n",
       "102  21800052  2018-10-24        1   1  ...        13.6    0.489   0.530   \n",
       "150  21800076  2018-10-27        1   0  ...        20.8    0.393   0.452   \n",
       "\n",
       "     USG_PCT  E_USG_PCT  E_PACE   PACE  PACE_PER40  POSS    PIE  \n",
       "12       1.0      0.200  116.78  112.5       93.75   113  0.405  \n",
       "38       1.0      0.200  108.38  106.5       88.75   106  0.418  \n",
       "70       1.0      0.196  108.76  105.5       87.92   106  0.618  \n",
       "102      1.0      0.202  110.04  111.0       92.50   110  0.534  \n",
       "150      1.0      0.200  105.08  107.0       89.17   106  0.410  \n",
       "\n",
       "[5 rows x 62 columns]"
      ]
     },
     "execution_count": 7,
     "metadata": {},
     "output_type": "execute_result"
    }
   ],
   "source": [
    "df = df.sort_values(['TEAM_NAME', 'GAME_DATE'])\n",
    "df.head()\n",
    "\n",
    "## Get average stats for last 8 games leading up to a game, if not last 8 then the last n games before the 8th"
   ]
  },
  {
   "cell_type": "markdown",
   "id": "134bef69",
   "metadata": {},
   "source": [
    "Here, I am dropping some columns that I do not need. It is always good to eliminate as many unnessecary columns as possible to make the data easier for the computer to read."
   ]
  },
  {
   "cell_type": "code",
   "execution_count": 8,
   "id": "49a6ee9e",
   "metadata": {
    "scrolled": true
   },
   "outputs": [],
   "source": [
    " df2 = df.drop(['index', 'level_0',\n",
    "'TEAM_ID',\n",
    "'TEAM_ABBREVIATION',\n",
    "'GAME_ID', 'VIDEO_AVAILABLE', 'PLUS_MINUS'], axis=1)"
   ]
  },
  {
   "cell_type": "code",
   "execution_count": 549,
   "id": "459abec7",
   "metadata": {},
   "outputs": [
    {
     "data": {
      "text/html": [
       "<div>\n",
       "<style scoped>\n",
       "    .dataframe tbody tr th:only-of-type {\n",
       "        vertical-align: middle;\n",
       "    }\n",
       "\n",
       "    .dataframe tbody tr th {\n",
       "        vertical-align: top;\n",
       "    }\n",
       "\n",
       "    .dataframe thead th {\n",
       "        text-align: right;\n",
       "    }\n",
       "</style>\n",
       "<table border=\"1\" class=\"dataframe\">\n",
       "  <thead>\n",
       "    <tr style=\"text-align: right;\">\n",
       "      <th></th>\n",
       "      <th>SEASON_ID</th>\n",
       "      <th>TEAM_NAME</th>\n",
       "      <th>GAME_DATE</th>\n",
       "      <th>MATCHUP</th>\n",
       "      <th>WL</th>\n",
       "      <th>MIN</th>\n",
       "      <th>FGM</th>\n",
       "      <th>FGA</th>\n",
       "      <th>FG_PCT</th>\n",
       "      <th>FG3M</th>\n",
       "      <th>FG3A</th>\n",
       "      <th>FG3_PCT</th>\n",
       "      <th>FTM</th>\n",
       "      <th>FTA</th>\n",
       "      <th>FT_PCT</th>\n",
       "      <th>OREB</th>\n",
       "      <th>DREB</th>\n",
       "      <th>REB</th>\n",
       "      <th>AST</th>\n",
       "      <th>STL</th>\n",
       "      <th>BLK</th>\n",
       "      <th>TOV</th>\n",
       "      <th>PF</th>\n",
       "      <th>PTS</th>\n",
       "      <th>level_0.1</th>\n",
       "      <th>index.1</th>\n",
       "      <th>GAME_ID.1</th>\n",
       "      <th>TEAM_ID.1</th>\n",
       "      <th>TEAM_NAME.1</th>\n",
       "      <th>TEAM_ABBREVIATION.1</th>\n",
       "      <th>TEAM_CITY</th>\n",
       "      <th>MIN.1</th>\n",
       "      <th>E_OFF_RATING</th>\n",
       "      <th>OFF_RATING</th>\n",
       "      <th>E_DEF_RATING</th>\n",
       "      <th>DEF_RATING</th>\n",
       "      <th>E_NET_RATING</th>\n",
       "      <th>NET_RATING</th>\n",
       "      <th>AST_PCT</th>\n",
       "      <th>AST_TOV</th>\n",
       "      <th>AST_RATIO</th>\n",
       "      <th>OREB_PCT</th>\n",
       "      <th>DREB_PCT</th>\n",
       "      <th>REB_PCT</th>\n",
       "      <th>E_TM_TOV_PCT</th>\n",
       "      <th>TM_TOV_PCT</th>\n",
       "      <th>EFG_PCT</th>\n",
       "      <th>TS_PCT</th>\n",
       "      <th>USG_PCT</th>\n",
       "      <th>E_USG_PCT</th>\n",
       "      <th>E_PACE</th>\n",
       "      <th>PACE</th>\n",
       "      <th>PACE_PER40</th>\n",
       "      <th>POSS</th>\n",
       "      <th>PIE</th>\n",
       "    </tr>\n",
       "  </thead>\n",
       "  <tbody>\n",
       "    <tr>\n",
       "      <th>12</th>\n",
       "      <td>22018</td>\n",
       "      <td>Atlanta Hawks</td>\n",
       "      <td>2018-10-17</td>\n",
       "      <td>0</td>\n",
       "      <td>0</td>\n",
       "      <td>240</td>\n",
       "      <td>41</td>\n",
       "      <td>90</td>\n",
       "      <td>0.456</td>\n",
       "      <td>10</td>\n",
       "      <td>36</td>\n",
       "      <td>0.278</td>\n",
       "      <td>15</td>\n",
       "      <td>18</td>\n",
       "      <td>0.833</td>\n",
       "      <td>7</td>\n",
       "      <td>38</td>\n",
       "      <td>45</td>\n",
       "      <td>19</td>\n",
       "      <td>7</td>\n",
       "      <td>3</td>\n",
       "      <td>24</td>\n",
       "      <td>30</td>\n",
       "      <td>107</td>\n",
       "      <td>20</td>\n",
       "      <td>21</td>\n",
       "      <td>21800007</td>\n",
       "      <td>1610612737</td>\n",
       "      <td>Hawks</td>\n",
       "      <td>ATL</td>\n",
       "      <td>Atlanta</td>\n",
       "      <td>240:00</td>\n",
       "      <td>93.1</td>\n",
       "      <td>94.7</td>\n",
       "      <td>106.2</td>\n",
       "      <td>112.5</td>\n",
       "      <td>-13.1</td>\n",
       "      <td>-17.8</td>\n",
       "      <td>0.463</td>\n",
       "      <td>0.79</td>\n",
       "      <td>13.5</td>\n",
       "      <td>0.235</td>\n",
       "      <td>0.690</td>\n",
       "      <td>0.477</td>\n",
       "      <td>20.884</td>\n",
       "      <td>21.2</td>\n",
       "      <td>0.511</td>\n",
       "      <td>0.546</td>\n",
       "      <td>1.0</td>\n",
       "      <td>0.200</td>\n",
       "      <td>116.78</td>\n",
       "      <td>112.5</td>\n",
       "      <td>93.75</td>\n",
       "      <td>113</td>\n",
       "      <td>0.405</td>\n",
       "    </tr>\n",
       "    <tr>\n",
       "      <th>38</th>\n",
       "      <td>22018</td>\n",
       "      <td>Atlanta Hawks</td>\n",
       "      <td>2018-10-19</td>\n",
       "      <td>0</td>\n",
       "      <td>0</td>\n",
       "      <td>240</td>\n",
       "      <td>41</td>\n",
       "      <td>83</td>\n",
       "      <td>0.494</td>\n",
       "      <td>14</td>\n",
       "      <td>30</td>\n",
       "      <td>0.467</td>\n",
       "      <td>21</td>\n",
       "      <td>36</td>\n",
       "      <td>0.583</td>\n",
       "      <td>11</td>\n",
       "      <td>29</td>\n",
       "      <td>40</td>\n",
       "      <td>27</td>\n",
       "      <td>9</td>\n",
       "      <td>5</td>\n",
       "      <td>19</td>\n",
       "      <td>31</td>\n",
       "      <td>117</td>\n",
       "      <td>46</td>\n",
       "      <td>47</td>\n",
       "      <td>21800020</td>\n",
       "      <td>1610612737</td>\n",
       "      <td>Hawks</td>\n",
       "      <td>ATL</td>\n",
       "      <td>Atlanta</td>\n",
       "      <td>240:00</td>\n",
       "      <td>109.5</td>\n",
       "      <td>110.4</td>\n",
       "      <td>119.2</td>\n",
       "      <td>122.4</td>\n",
       "      <td>-9.7</td>\n",
       "      <td>-12.1</td>\n",
       "      <td>0.659</td>\n",
       "      <td>1.42</td>\n",
       "      <td>18.6</td>\n",
       "      <td>0.250</td>\n",
       "      <td>0.721</td>\n",
       "      <td>0.473</td>\n",
       "      <td>17.784</td>\n",
       "      <td>17.9</td>\n",
       "      <td>0.578</td>\n",
       "      <td>0.592</td>\n",
       "      <td>1.0</td>\n",
       "      <td>0.200</td>\n",
       "      <td>108.38</td>\n",
       "      <td>106.5</td>\n",
       "      <td>88.75</td>\n",
       "      <td>106</td>\n",
       "      <td>0.418</td>\n",
       "    </tr>\n",
       "    <tr>\n",
       "      <th>70</th>\n",
       "      <td>22018</td>\n",
       "      <td>Atlanta Hawks</td>\n",
       "      <td>2018-10-21</td>\n",
       "      <td>0</td>\n",
       "      <td>1</td>\n",
       "      <td>240</td>\n",
       "      <td>48</td>\n",
       "      <td>98</td>\n",
       "      <td>0.490</td>\n",
       "      <td>22</td>\n",
       "      <td>47</td>\n",
       "      <td>0.468</td>\n",
       "      <td>15</td>\n",
       "      <td>19</td>\n",
       "      <td>0.789</td>\n",
       "      <td>9</td>\n",
       "      <td>35</td>\n",
       "      <td>44</td>\n",
       "      <td>32</td>\n",
       "      <td>9</td>\n",
       "      <td>7</td>\n",
       "      <td>12</td>\n",
       "      <td>21</td>\n",
       "      <td>133</td>\n",
       "      <td>78</td>\n",
       "      <td>79</td>\n",
       "      <td>21800036</td>\n",
       "      <td>1610612737</td>\n",
       "      <td>Hawks</td>\n",
       "      <td>ATL</td>\n",
       "      <td>Atlanta</td>\n",
       "      <td>240:00</td>\n",
       "      <td>121.6</td>\n",
       "      <td>125.5</td>\n",
       "      <td>102.6</td>\n",
       "      <td>105.7</td>\n",
       "      <td>19.0</td>\n",
       "      <td>19.8</td>\n",
       "      <td>0.667</td>\n",
       "      <td>2.67</td>\n",
       "      <td>21.3</td>\n",
       "      <td>0.275</td>\n",
       "      <td>0.655</td>\n",
       "      <td>0.472</td>\n",
       "      <td>10.973</td>\n",
       "      <td>11.3</td>\n",
       "      <td>0.602</td>\n",
       "      <td>0.625</td>\n",
       "      <td>1.0</td>\n",
       "      <td>0.196</td>\n",
       "      <td>108.76</td>\n",
       "      <td>105.5</td>\n",
       "      <td>87.92</td>\n",
       "      <td>106</td>\n",
       "      <td>0.618</td>\n",
       "    </tr>\n",
       "    <tr>\n",
       "      <th>102</th>\n",
       "      <td>22018</td>\n",
       "      <td>Atlanta Hawks</td>\n",
       "      <td>2018-10-24</td>\n",
       "      <td>1</td>\n",
       "      <td>1</td>\n",
       "      <td>240</td>\n",
       "      <td>37</td>\n",
       "      <td>91</td>\n",
       "      <td>0.407</td>\n",
       "      <td>15</td>\n",
       "      <td>38</td>\n",
       "      <td>0.395</td>\n",
       "      <td>22</td>\n",
       "      <td>31</td>\n",
       "      <td>0.710</td>\n",
       "      <td>10</td>\n",
       "      <td>44</td>\n",
       "      <td>54</td>\n",
       "      <td>28</td>\n",
       "      <td>6</td>\n",
       "      <td>6</td>\n",
       "      <td>15</td>\n",
       "      <td>26</td>\n",
       "      <td>111</td>\n",
       "      <td>110</td>\n",
       "      <td>111</td>\n",
       "      <td>21800052</td>\n",
       "      <td>1610612737</td>\n",
       "      <td>Hawks</td>\n",
       "      <td>ATL</td>\n",
       "      <td>Atlanta</td>\n",
       "      <td>240:00</td>\n",
       "      <td>101.2</td>\n",
       "      <td>100.9</td>\n",
       "      <td>94.2</td>\n",
       "      <td>92.9</td>\n",
       "      <td>7.1</td>\n",
       "      <td>8.1</td>\n",
       "      <td>0.757</td>\n",
       "      <td>1.87</td>\n",
       "      <td>19.0</td>\n",
       "      <td>0.196</td>\n",
       "      <td>0.797</td>\n",
       "      <td>0.504</td>\n",
       "      <td>13.681</td>\n",
       "      <td>13.6</td>\n",
       "      <td>0.489</td>\n",
       "      <td>0.530</td>\n",
       "      <td>1.0</td>\n",
       "      <td>0.202</td>\n",
       "      <td>110.04</td>\n",
       "      <td>111.0</td>\n",
       "      <td>92.50</td>\n",
       "      <td>110</td>\n",
       "      <td>0.534</td>\n",
       "    </tr>\n",
       "    <tr>\n",
       "      <th>150</th>\n",
       "      <td>22018</td>\n",
       "      <td>Atlanta Hawks</td>\n",
       "      <td>2018-10-27</td>\n",
       "      <td>1</td>\n",
       "      <td>0</td>\n",
       "      <td>240</td>\n",
       "      <td>27</td>\n",
       "      <td>84</td>\n",
       "      <td>0.321</td>\n",
       "      <td>12</td>\n",
       "      <td>40</td>\n",
       "      <td>0.300</td>\n",
       "      <td>19</td>\n",
       "      <td>23</td>\n",
       "      <td>0.826</td>\n",
       "      <td>11</td>\n",
       "      <td>37</td>\n",
       "      <td>48</td>\n",
       "      <td>20</td>\n",
       "      <td>9</td>\n",
       "      <td>8</td>\n",
       "      <td>22</td>\n",
       "      <td>13</td>\n",
       "      <td>85</td>\n",
       "      <td>158</td>\n",
       "      <td>159</td>\n",
       "      <td>21800076</td>\n",
       "      <td>1610612737</td>\n",
       "      <td>Hawks</td>\n",
       "      <td>ATL</td>\n",
       "      <td>Atlanta</td>\n",
       "      <td>240:00</td>\n",
       "      <td>80.9</td>\n",
       "      <td>80.2</td>\n",
       "      <td>92.3</td>\n",
       "      <td>89.8</td>\n",
       "      <td>-11.5</td>\n",
       "      <td>-9.6</td>\n",
       "      <td>0.741</td>\n",
       "      <td>0.91</td>\n",
       "      <td>14.7</td>\n",
       "      <td>0.190</td>\n",
       "      <td>0.792</td>\n",
       "      <td>0.462</td>\n",
       "      <td>20.928</td>\n",
       "      <td>20.8</td>\n",
       "      <td>0.393</td>\n",
       "      <td>0.452</td>\n",
       "      <td>1.0</td>\n",
       "      <td>0.200</td>\n",
       "      <td>105.08</td>\n",
       "      <td>107.0</td>\n",
       "      <td>89.17</td>\n",
       "      <td>106</td>\n",
       "      <td>0.410</td>\n",
       "    </tr>\n",
       "  </tbody>\n",
       "</table>\n",
       "</div>"
      ],
      "text/plain": [
       "     SEASON_ID      TEAM_NAME   GAME_DATE  MATCHUP  WL  MIN  FGM  FGA  FG_PCT  \\\n",
       "12       22018  Atlanta Hawks  2018-10-17        0   0  240   41   90   0.456   \n",
       "38       22018  Atlanta Hawks  2018-10-19        0   0  240   41   83   0.494   \n",
       "70       22018  Atlanta Hawks  2018-10-21        0   1  240   48   98   0.490   \n",
       "102      22018  Atlanta Hawks  2018-10-24        1   1  240   37   91   0.407   \n",
       "150      22018  Atlanta Hawks  2018-10-27        1   0  240   27   84   0.321   \n",
       "\n",
       "     FG3M  FG3A  FG3_PCT  FTM  FTA  FT_PCT  OREB  DREB  REB  AST  STL  BLK  \\\n",
       "12     10    36    0.278   15   18   0.833     7    38   45   19    7    3   \n",
       "38     14    30    0.467   21   36   0.583    11    29   40   27    9    5   \n",
       "70     22    47    0.468   15   19   0.789     9    35   44   32    9    7   \n",
       "102    15    38    0.395   22   31   0.710    10    44   54   28    6    6   \n",
       "150    12    40    0.300   19   23   0.826    11    37   48   20    9    8   \n",
       "\n",
       "     TOV  PF  PTS  level_0.1  index.1  GAME_ID.1   TEAM_ID.1 TEAM_NAME.1  \\\n",
       "12    24  30  107         20       21   21800007  1610612737       Hawks   \n",
       "38    19  31  117         46       47   21800020  1610612737       Hawks   \n",
       "70    12  21  133         78       79   21800036  1610612737       Hawks   \n",
       "102   15  26  111        110      111   21800052  1610612737       Hawks   \n",
       "150   22  13   85        158      159   21800076  1610612737       Hawks   \n",
       "\n",
       "    TEAM_ABBREVIATION.1 TEAM_CITY   MIN.1  E_OFF_RATING  OFF_RATING  \\\n",
       "12                  ATL   Atlanta  240:00          93.1        94.7   \n",
       "38                  ATL   Atlanta  240:00         109.5       110.4   \n",
       "70                  ATL   Atlanta  240:00         121.6       125.5   \n",
       "102                 ATL   Atlanta  240:00         101.2       100.9   \n",
       "150                 ATL   Atlanta  240:00          80.9        80.2   \n",
       "\n",
       "     E_DEF_RATING  DEF_RATING  E_NET_RATING  NET_RATING  AST_PCT  AST_TOV  \\\n",
       "12          106.2       112.5         -13.1       -17.8    0.463     0.79   \n",
       "38          119.2       122.4          -9.7       -12.1    0.659     1.42   \n",
       "70          102.6       105.7          19.0        19.8    0.667     2.67   \n",
       "102          94.2        92.9           7.1         8.1    0.757     1.87   \n",
       "150          92.3        89.8         -11.5        -9.6    0.741     0.91   \n",
       "\n",
       "     AST_RATIO  OREB_PCT  DREB_PCT  REB_PCT  E_TM_TOV_PCT  TM_TOV_PCT  \\\n",
       "12        13.5     0.235     0.690    0.477        20.884        21.2   \n",
       "38        18.6     0.250     0.721    0.473        17.784        17.9   \n",
       "70        21.3     0.275     0.655    0.472        10.973        11.3   \n",
       "102       19.0     0.196     0.797    0.504        13.681        13.6   \n",
       "150       14.7     0.190     0.792    0.462        20.928        20.8   \n",
       "\n",
       "     EFG_PCT  TS_PCT  USG_PCT  E_USG_PCT  E_PACE   PACE  PACE_PER40  POSS  \\\n",
       "12     0.511   0.546      1.0      0.200  116.78  112.5       93.75   113   \n",
       "38     0.578   0.592      1.0      0.200  108.38  106.5       88.75   106   \n",
       "70     0.602   0.625      1.0      0.196  108.76  105.5       87.92   106   \n",
       "102    0.489   0.530      1.0      0.202  110.04  111.0       92.50   110   \n",
       "150    0.393   0.452      1.0      0.200  105.08  107.0       89.17   106   \n",
       "\n",
       "       PIE  \n",
       "12   0.405  \n",
       "38   0.418  \n",
       "70   0.618  \n",
       "102  0.534  \n",
       "150  0.410  "
      ]
     },
     "execution_count": 549,
     "metadata": {},
     "output_type": "execute_result"
    }
   ],
   "source": [
    "df2.head()"
   ]
  },
  {
   "cell_type": "code",
   "execution_count": 551,
   "id": "83c14cc5",
   "metadata": {},
   "outputs": [
    {
     "data": {
      "text/html": [
       "<div>\n",
       "<style scoped>\n",
       "    .dataframe tbody tr th:only-of-type {\n",
       "        vertical-align: middle;\n",
       "    }\n",
       "\n",
       "    .dataframe tbody tr th {\n",
       "        vertical-align: top;\n",
       "    }\n",
       "\n",
       "    .dataframe thead th {\n",
       "        text-align: right;\n",
       "    }\n",
       "</style>\n",
       "<table border=\"1\" class=\"dataframe\">\n",
       "  <thead>\n",
       "    <tr style=\"text-align: right;\">\n",
       "      <th></th>\n",
       "      <th>SEASON_ID</th>\n",
       "      <th>TEAM_NAME</th>\n",
       "      <th>GAME_DATE</th>\n",
       "      <th>MATCHUP</th>\n",
       "      <th>WL</th>\n",
       "      <th>MIN</th>\n",
       "      <th>FGM</th>\n",
       "      <th>FGA</th>\n",
       "      <th>FG_PCT</th>\n",
       "      <th>FG3M</th>\n",
       "      <th>FG3A</th>\n",
       "      <th>FG3_PCT</th>\n",
       "      <th>FTM</th>\n",
       "      <th>FTA</th>\n",
       "      <th>FT_PCT</th>\n",
       "      <th>OREB</th>\n",
       "      <th>DREB</th>\n",
       "      <th>REB</th>\n",
       "      <th>AST</th>\n",
       "      <th>STL</th>\n",
       "      <th>BLK</th>\n",
       "      <th>TOV</th>\n",
       "      <th>PF</th>\n",
       "      <th>PTS</th>\n",
       "      <th>level_0.1</th>\n",
       "      <th>index.1</th>\n",
       "      <th>GAME_ID.1</th>\n",
       "      <th>TEAM_ID.1</th>\n",
       "      <th>TEAM_NAME.1</th>\n",
       "      <th>TEAM_ABBREVIATION.1</th>\n",
       "      <th>TEAM_CITY</th>\n",
       "      <th>MIN.1</th>\n",
       "      <th>E_OFF_RATING</th>\n",
       "      <th>OFF_RATING</th>\n",
       "      <th>E_DEF_RATING</th>\n",
       "      <th>DEF_RATING</th>\n",
       "      <th>E_NET_RATING</th>\n",
       "      <th>NET_RATING</th>\n",
       "      <th>AST_PCT</th>\n",
       "      <th>AST_TOV</th>\n",
       "      <th>AST_RATIO</th>\n",
       "      <th>OREB_PCT</th>\n",
       "      <th>DREB_PCT</th>\n",
       "      <th>REB_PCT</th>\n",
       "      <th>E_TM_TOV_PCT</th>\n",
       "      <th>TM_TOV_PCT</th>\n",
       "      <th>EFG_PCT</th>\n",
       "      <th>TS_PCT</th>\n",
       "      <th>USG_PCT</th>\n",
       "      <th>E_USG_PCT</th>\n",
       "      <th>E_PACE</th>\n",
       "      <th>PACE</th>\n",
       "      <th>PACE_PER40</th>\n",
       "      <th>POSS</th>\n",
       "      <th>PIE</th>\n",
       "    </tr>\n",
       "  </thead>\n",
       "  <tbody>\n",
       "    <tr>\n",
       "      <th>12</th>\n",
       "      <td>22018</td>\n",
       "      <td>Atlanta Hawks</td>\n",
       "      <td>2018-10-17</td>\n",
       "      <td>0</td>\n",
       "      <td>0</td>\n",
       "      <td>240</td>\n",
       "      <td>41</td>\n",
       "      <td>90</td>\n",
       "      <td>0.456</td>\n",
       "      <td>10</td>\n",
       "      <td>36</td>\n",
       "      <td>0.278</td>\n",
       "      <td>15</td>\n",
       "      <td>18</td>\n",
       "      <td>0.833</td>\n",
       "      <td>7</td>\n",
       "      <td>38</td>\n",
       "      <td>45</td>\n",
       "      <td>19</td>\n",
       "      <td>7</td>\n",
       "      <td>3</td>\n",
       "      <td>24</td>\n",
       "      <td>30</td>\n",
       "      <td>107</td>\n",
       "      <td>20</td>\n",
       "      <td>21</td>\n",
       "      <td>21800007</td>\n",
       "      <td>1610612737</td>\n",
       "      <td>Hawks</td>\n",
       "      <td>ATL</td>\n",
       "      <td>Atlanta</td>\n",
       "      <td>240:00</td>\n",
       "      <td>93.1</td>\n",
       "      <td>94.7</td>\n",
       "      <td>106.2</td>\n",
       "      <td>112.5</td>\n",
       "      <td>-13.1</td>\n",
       "      <td>-17.8</td>\n",
       "      <td>0.463</td>\n",
       "      <td>0.79</td>\n",
       "      <td>13.5</td>\n",
       "      <td>0.235</td>\n",
       "      <td>0.690</td>\n",
       "      <td>0.477</td>\n",
       "      <td>20.884</td>\n",
       "      <td>21.2</td>\n",
       "      <td>0.511</td>\n",
       "      <td>0.546</td>\n",
       "      <td>1.0</td>\n",
       "      <td>0.200</td>\n",
       "      <td>116.78</td>\n",
       "      <td>112.5</td>\n",
       "      <td>93.75</td>\n",
       "      <td>113</td>\n",
       "      <td>0.405</td>\n",
       "    </tr>\n",
       "    <tr>\n",
       "      <th>38</th>\n",
       "      <td>22018</td>\n",
       "      <td>Atlanta Hawks</td>\n",
       "      <td>2018-10-19</td>\n",
       "      <td>0</td>\n",
       "      <td>0</td>\n",
       "      <td>240</td>\n",
       "      <td>41</td>\n",
       "      <td>83</td>\n",
       "      <td>0.494</td>\n",
       "      <td>14</td>\n",
       "      <td>30</td>\n",
       "      <td>0.467</td>\n",
       "      <td>21</td>\n",
       "      <td>36</td>\n",
       "      <td>0.583</td>\n",
       "      <td>11</td>\n",
       "      <td>29</td>\n",
       "      <td>40</td>\n",
       "      <td>27</td>\n",
       "      <td>9</td>\n",
       "      <td>5</td>\n",
       "      <td>19</td>\n",
       "      <td>31</td>\n",
       "      <td>117</td>\n",
       "      <td>46</td>\n",
       "      <td>47</td>\n",
       "      <td>21800020</td>\n",
       "      <td>1610612737</td>\n",
       "      <td>Hawks</td>\n",
       "      <td>ATL</td>\n",
       "      <td>Atlanta</td>\n",
       "      <td>240:00</td>\n",
       "      <td>109.5</td>\n",
       "      <td>110.4</td>\n",
       "      <td>119.2</td>\n",
       "      <td>122.4</td>\n",
       "      <td>-9.7</td>\n",
       "      <td>-12.1</td>\n",
       "      <td>0.659</td>\n",
       "      <td>1.42</td>\n",
       "      <td>18.6</td>\n",
       "      <td>0.250</td>\n",
       "      <td>0.721</td>\n",
       "      <td>0.473</td>\n",
       "      <td>17.784</td>\n",
       "      <td>17.9</td>\n",
       "      <td>0.578</td>\n",
       "      <td>0.592</td>\n",
       "      <td>1.0</td>\n",
       "      <td>0.200</td>\n",
       "      <td>108.38</td>\n",
       "      <td>106.5</td>\n",
       "      <td>88.75</td>\n",
       "      <td>106</td>\n",
       "      <td>0.418</td>\n",
       "    </tr>\n",
       "    <tr>\n",
       "      <th>70</th>\n",
       "      <td>22018</td>\n",
       "      <td>Atlanta Hawks</td>\n",
       "      <td>2018-10-21</td>\n",
       "      <td>0</td>\n",
       "      <td>1</td>\n",
       "      <td>240</td>\n",
       "      <td>48</td>\n",
       "      <td>98</td>\n",
       "      <td>0.490</td>\n",
       "      <td>22</td>\n",
       "      <td>47</td>\n",
       "      <td>0.468</td>\n",
       "      <td>15</td>\n",
       "      <td>19</td>\n",
       "      <td>0.789</td>\n",
       "      <td>9</td>\n",
       "      <td>35</td>\n",
       "      <td>44</td>\n",
       "      <td>32</td>\n",
       "      <td>9</td>\n",
       "      <td>7</td>\n",
       "      <td>12</td>\n",
       "      <td>21</td>\n",
       "      <td>133</td>\n",
       "      <td>78</td>\n",
       "      <td>79</td>\n",
       "      <td>21800036</td>\n",
       "      <td>1610612737</td>\n",
       "      <td>Hawks</td>\n",
       "      <td>ATL</td>\n",
       "      <td>Atlanta</td>\n",
       "      <td>240:00</td>\n",
       "      <td>121.6</td>\n",
       "      <td>125.5</td>\n",
       "      <td>102.6</td>\n",
       "      <td>105.7</td>\n",
       "      <td>19.0</td>\n",
       "      <td>19.8</td>\n",
       "      <td>0.667</td>\n",
       "      <td>2.67</td>\n",
       "      <td>21.3</td>\n",
       "      <td>0.275</td>\n",
       "      <td>0.655</td>\n",
       "      <td>0.472</td>\n",
       "      <td>10.973</td>\n",
       "      <td>11.3</td>\n",
       "      <td>0.602</td>\n",
       "      <td>0.625</td>\n",
       "      <td>1.0</td>\n",
       "      <td>0.196</td>\n",
       "      <td>108.76</td>\n",
       "      <td>105.5</td>\n",
       "      <td>87.92</td>\n",
       "      <td>106</td>\n",
       "      <td>0.618</td>\n",
       "    </tr>\n",
       "    <tr>\n",
       "      <th>102</th>\n",
       "      <td>22018</td>\n",
       "      <td>Atlanta Hawks</td>\n",
       "      <td>2018-10-24</td>\n",
       "      <td>1</td>\n",
       "      <td>1</td>\n",
       "      <td>240</td>\n",
       "      <td>37</td>\n",
       "      <td>91</td>\n",
       "      <td>0.407</td>\n",
       "      <td>15</td>\n",
       "      <td>38</td>\n",
       "      <td>0.395</td>\n",
       "      <td>22</td>\n",
       "      <td>31</td>\n",
       "      <td>0.710</td>\n",
       "      <td>10</td>\n",
       "      <td>44</td>\n",
       "      <td>54</td>\n",
       "      <td>28</td>\n",
       "      <td>6</td>\n",
       "      <td>6</td>\n",
       "      <td>15</td>\n",
       "      <td>26</td>\n",
       "      <td>111</td>\n",
       "      <td>110</td>\n",
       "      <td>111</td>\n",
       "      <td>21800052</td>\n",
       "      <td>1610612737</td>\n",
       "      <td>Hawks</td>\n",
       "      <td>ATL</td>\n",
       "      <td>Atlanta</td>\n",
       "      <td>240:00</td>\n",
       "      <td>101.2</td>\n",
       "      <td>100.9</td>\n",
       "      <td>94.2</td>\n",
       "      <td>92.9</td>\n",
       "      <td>7.1</td>\n",
       "      <td>8.1</td>\n",
       "      <td>0.757</td>\n",
       "      <td>1.87</td>\n",
       "      <td>19.0</td>\n",
       "      <td>0.196</td>\n",
       "      <td>0.797</td>\n",
       "      <td>0.504</td>\n",
       "      <td>13.681</td>\n",
       "      <td>13.6</td>\n",
       "      <td>0.489</td>\n",
       "      <td>0.530</td>\n",
       "      <td>1.0</td>\n",
       "      <td>0.202</td>\n",
       "      <td>110.04</td>\n",
       "      <td>111.0</td>\n",
       "      <td>92.50</td>\n",
       "      <td>110</td>\n",
       "      <td>0.534</td>\n",
       "    </tr>\n",
       "    <tr>\n",
       "      <th>150</th>\n",
       "      <td>22018</td>\n",
       "      <td>Atlanta Hawks</td>\n",
       "      <td>2018-10-27</td>\n",
       "      <td>1</td>\n",
       "      <td>0</td>\n",
       "      <td>240</td>\n",
       "      <td>27</td>\n",
       "      <td>84</td>\n",
       "      <td>0.321</td>\n",
       "      <td>12</td>\n",
       "      <td>40</td>\n",
       "      <td>0.300</td>\n",
       "      <td>19</td>\n",
       "      <td>23</td>\n",
       "      <td>0.826</td>\n",
       "      <td>11</td>\n",
       "      <td>37</td>\n",
       "      <td>48</td>\n",
       "      <td>20</td>\n",
       "      <td>9</td>\n",
       "      <td>8</td>\n",
       "      <td>22</td>\n",
       "      <td>13</td>\n",
       "      <td>85</td>\n",
       "      <td>158</td>\n",
       "      <td>159</td>\n",
       "      <td>21800076</td>\n",
       "      <td>1610612737</td>\n",
       "      <td>Hawks</td>\n",
       "      <td>ATL</td>\n",
       "      <td>Atlanta</td>\n",
       "      <td>240:00</td>\n",
       "      <td>80.9</td>\n",
       "      <td>80.2</td>\n",
       "      <td>92.3</td>\n",
       "      <td>89.8</td>\n",
       "      <td>-11.5</td>\n",
       "      <td>-9.6</td>\n",
       "      <td>0.741</td>\n",
       "      <td>0.91</td>\n",
       "      <td>14.7</td>\n",
       "      <td>0.190</td>\n",
       "      <td>0.792</td>\n",
       "      <td>0.462</td>\n",
       "      <td>20.928</td>\n",
       "      <td>20.8</td>\n",
       "      <td>0.393</td>\n",
       "      <td>0.452</td>\n",
       "      <td>1.0</td>\n",
       "      <td>0.200</td>\n",
       "      <td>105.08</td>\n",
       "      <td>107.0</td>\n",
       "      <td>89.17</td>\n",
       "      <td>106</td>\n",
       "      <td>0.410</td>\n",
       "    </tr>\n",
       "  </tbody>\n",
       "</table>\n",
       "</div>"
      ],
      "text/plain": [
       "     SEASON_ID      TEAM_NAME  GAME_DATE  MATCHUP  WL  MIN  FGM  FGA  FG_PCT  \\\n",
       "12       22018  Atlanta Hawks 2018-10-17        0   0  240   41   90   0.456   \n",
       "38       22018  Atlanta Hawks 2018-10-19        0   0  240   41   83   0.494   \n",
       "70       22018  Atlanta Hawks 2018-10-21        0   1  240   48   98   0.490   \n",
       "102      22018  Atlanta Hawks 2018-10-24        1   1  240   37   91   0.407   \n",
       "150      22018  Atlanta Hawks 2018-10-27        1   0  240   27   84   0.321   \n",
       "\n",
       "     FG3M  FG3A  FG3_PCT  FTM  FTA  FT_PCT  OREB  DREB  REB  AST  STL  BLK  \\\n",
       "12     10    36    0.278   15   18   0.833     7    38   45   19    7    3   \n",
       "38     14    30    0.467   21   36   0.583    11    29   40   27    9    5   \n",
       "70     22    47    0.468   15   19   0.789     9    35   44   32    9    7   \n",
       "102    15    38    0.395   22   31   0.710    10    44   54   28    6    6   \n",
       "150    12    40    0.300   19   23   0.826    11    37   48   20    9    8   \n",
       "\n",
       "     TOV  PF  PTS  level_0.1  index.1  GAME_ID.1   TEAM_ID.1 TEAM_NAME.1  \\\n",
       "12    24  30  107         20       21   21800007  1610612737       Hawks   \n",
       "38    19  31  117         46       47   21800020  1610612737       Hawks   \n",
       "70    12  21  133         78       79   21800036  1610612737       Hawks   \n",
       "102   15  26  111        110      111   21800052  1610612737       Hawks   \n",
       "150   22  13   85        158      159   21800076  1610612737       Hawks   \n",
       "\n",
       "    TEAM_ABBREVIATION.1 TEAM_CITY   MIN.1  E_OFF_RATING  OFF_RATING  \\\n",
       "12                  ATL   Atlanta  240:00          93.1        94.7   \n",
       "38                  ATL   Atlanta  240:00         109.5       110.4   \n",
       "70                  ATL   Atlanta  240:00         121.6       125.5   \n",
       "102                 ATL   Atlanta  240:00         101.2       100.9   \n",
       "150                 ATL   Atlanta  240:00          80.9        80.2   \n",
       "\n",
       "     E_DEF_RATING  DEF_RATING  E_NET_RATING  NET_RATING  AST_PCT  AST_TOV  \\\n",
       "12          106.2       112.5         -13.1       -17.8    0.463     0.79   \n",
       "38          119.2       122.4          -9.7       -12.1    0.659     1.42   \n",
       "70          102.6       105.7          19.0        19.8    0.667     2.67   \n",
       "102          94.2        92.9           7.1         8.1    0.757     1.87   \n",
       "150          92.3        89.8         -11.5        -9.6    0.741     0.91   \n",
       "\n",
       "     AST_RATIO  OREB_PCT  DREB_PCT  REB_PCT  E_TM_TOV_PCT  TM_TOV_PCT  \\\n",
       "12        13.5     0.235     0.690    0.477        20.884        21.2   \n",
       "38        18.6     0.250     0.721    0.473        17.784        17.9   \n",
       "70        21.3     0.275     0.655    0.472        10.973        11.3   \n",
       "102       19.0     0.196     0.797    0.504        13.681        13.6   \n",
       "150       14.7     0.190     0.792    0.462        20.928        20.8   \n",
       "\n",
       "     EFG_PCT  TS_PCT  USG_PCT  E_USG_PCT  E_PACE   PACE  PACE_PER40  POSS  \\\n",
       "12     0.511   0.546      1.0      0.200  116.78  112.5       93.75   113   \n",
       "38     0.578   0.592      1.0      0.200  108.38  106.5       88.75   106   \n",
       "70     0.602   0.625      1.0      0.196  108.76  105.5       87.92   106   \n",
       "102    0.489   0.530      1.0      0.202  110.04  111.0       92.50   110   \n",
       "150    0.393   0.452      1.0      0.200  105.08  107.0       89.17   106   \n",
       "\n",
       "       PIE  \n",
       "12   0.405  \n",
       "38   0.418  \n",
       "70   0.618  \n",
       "102  0.534  \n",
       "150  0.410  "
      ]
     },
     "execution_count": 551,
     "metadata": {},
     "output_type": "execute_result"
    }
   ],
   "source": [
    "df2['GAME_DATE'] = pd.to_datetime(df2['GAME_DATE'])\n",
    "df2.head()"
   ]
  },
  {
   "cell_type": "markdown",
   "id": "51ef720d",
   "metadata": {},
   "source": [
    "In this section, I plotted a histogram for each column. This way, I could see the distribution of each column and spot any potential outliers."
   ]
  },
  {
   "cell_type": "code",
   "execution_count": 552,
   "id": "a5e37439",
   "metadata": {},
   "outputs": [
    {
     "name": "stderr",
     "output_type": "stream",
     "text": [
      "/Users/ishansheth/opt/anaconda3/lib/python3.8/site-packages/pandas/plotting/_matplotlib/tools.py:196: RuntimeWarning: More than 20 figures have been opened. Figures created through the pyplot interface (`matplotlib.pyplot.figure`) are retained until explicitly closed and may consume too much memory. (To control this warning, see the rcParam `figure.max_open_warning`).\n",
      "  fig = plt.figure(**fig_kw)\n"
     ]
    },
    {
     "data": {
      "image/png": "[encoded data removed]",
      "text/plain": [
       "<Figure size 432x288 with 1 Axes>"
      ]
     },
     "metadata": {
      "needs_background": "light"
     },
     "output_type": "display_data"
    },
    {
     "data": {
      "image/png": "[encoded data removed]",
      "text/plain": [
       "<Figure size 432x288 with 1 Axes>"
      ]
     },
     "metadata": {
      "needs_background": "light"
     },
     "output_type": "display_data"
    },
    {
     "data": {
      "image/png": "[encoded data removed]",
      "text/plain": [
       "<Figure size 432x288 with 1 Axes>"
      ]
     },
     "metadata": {
      "needs_background": "light"
     },
     "output_type": "display_data"
    },
    {
     "data": {
      "image/png": "[encoded data removed]",
      "text/plain": [
       "<Figure size 432x288 with 1 Axes>"
      ]
     },
     "metadata": {
      "needs_background": "light"
     },
     "output_type": "display_data"
    },
    {
     "data": {
      "image/png": "[encoded data removed]",
      "text/plain": [
       "<Figure size 432x288 with 1 Axes>"
      ]
     },
     "metadata": {
      "needs_background": "light"
     },
     "output_type": "display_data"
    },
    {
     "data": {
      "image/png": "[encoded data removed]",
      "text/plain": [
       "<Figure size 432x288 with 1 Axes>"
      ]
     },
     "metadata": {
      "needs_background": "light"
     },
     "output_type": "display_data"
    },
    {
     "data": {
      "image/png": "[encoded data removed]",
      "text/plain": [
       "<Figure size 432x288 with 1 Axes>"
      ]
     },
     "metadata": {
      "needs_background": "light"
     },
     "output_type": "display_data"
    },
    {
     "data": {
      "image/png": "[encoded data removed]",
      "text/plain": [
       "<Figure size 432x288 with 1 Axes>"
      ]
     },
     "metadata": {
      "needs_background": "light"
     },
     "output_type": "display_data"
    },
    {
     "data": {
      "image/png": "[encoded data removed]",
      "text/plain": [
       "<Figure size 432x288 with 1 Axes>"
      ]
     },
     "metadata": {
      "needs_background": "light"
     },
     "output_type": "display_data"
    },
    {
     "data": {
      "image/png": "[encoded data removed]",
      "text/plain": [
       "<Figure size 432x288 with 1 Axes>"
      ]
     },
     "metadata": {
      "needs_background": "light"
     },
     "output_type": "display_data"
    },
    {
     "data": {
      "image/png": "[encoded data removed]",
      "text/plain": [
       "<Figure size 432x288 with 1 Axes>"
      ]
     },
     "metadata": {
      "needs_background": "light"
     },
     "output_type": "display_data"
    },
    {
     "data": {
      "image/png": "[encoded data removed]",
      "text/plain": [
       "<Figure size 432x288 with 1 Axes>"
      ]
     },
     "metadata": {
      "needs_background": "light"
     },
     "output_type": "display_data"
    },
    {
     "data": {
      "image/png": "[encoded data removed]",
      "text/plain": [
       "<Figure size 432x288 with 1 Axes>"
      ]
     },
     "metadata": {
      "needs_background": "light"
     },
     "output_type": "display_data"
    },
    {
     "data": {
      "image/png": "[encoded data removed]",
      "text/plain": [
       "<Figure size 432x288 with 1 Axes>"
      ]
     },
     "metadata": {
      "needs_background": "light"
     },
     "output_type": "display_data"
    },
    {
     "data": {
      "image/png": "[encoded data removed]",
      "text/plain": [
       "<Figure size 432x288 with 1 Axes>"
      ]
     },
     "metadata": {
      "needs_background": "light"
     },
     "output_type": "display_data"
    },
    {
     "data": {
      "image/png": "[encoded data removed]",
      "text/plain": [
       "<Figure size 432x288 with 1 Axes>"
      ]
     },
     "metadata": {
      "needs_background": "light"
     },
     "output_type": "display_data"
    },
    {
     "data": {
      "image/png": "[encoded data removed]",
      "text/plain": [
       "<Figure size 432x288 with 1 Axes>"
      ]
     },
     "metadata": {
      "needs_background": "light"
     },
     "output_type": "display_data"
    },
    {
     "data": {
      "image/png": "[encoded data removed]",
      "text/plain": [
       "<Figure size 432x288 with 1 Axes>"
      ]
     },
     "metadata": {
      "needs_background": "light"
     },
     "output_type": "display_data"
    },
    {
     "data": {
      "image/png": "[encoded data removed]",
      "text/plain": [
       "<Figure size 432x288 with 1 Axes>"
      ]
     },
     "metadata": {
      "needs_background": "light"
     },
     "output_type": "display_data"
    },
    {
     "data": {
      "image/png": "[encoded data removed]",
      "text/plain": [
       "<Figure size 432x288 with 1 Axes>"
      ]
     },
     "metadata": {
      "needs_background": "light"
     },
     "output_type": "display_data"
    },
    {
     "data": {
      "image/png": "[encoded data removed]",
      "text/plain": [
       "<Figure size 432x288 with 1 Axes>"
      ]
     },
     "metadata": {
      "needs_background": "light"
     },
     "output_type": "display_data"
    },
    {
     "data": {
      "image/png": "[encoded data removed]",
      "text/plain": [
       "<Figure size 432x288 with 1 Axes>"
      ]
     },
     "metadata": {
      "needs_background": "light"
     },
     "output_type": "display_data"
    },
    {
     "data": {
      "image/png": "[encoded data removed]",
      "text/plain": [
       "<Figure size 432x288 with 1 Axes>"
      ]
     },
     "metadata": {
      "needs_background": "light"
     },
     "output_type": "display_data"
    },
    {
     "data": {
      "image/png": "[encoded data removed]",
      "text/plain": [
       "<Figure size 432x288 with 1 Axes>"
      ]
     },
     "metadata": {
      "needs_background": "light"
     },
     "output_type": "display_data"
    },
    {
     "data": {
      "image/png": "[encoded data removed]",
      "text/plain": [
       "<Figure size 432x288 with 1 Axes>"
      ]
     },
     "metadata": {
      "needs_background": "light"
     },
     "output_type": "display_data"
    },
    {
     "data": {
      "image/png": "[encoded data removed]",
      "text/plain": [
       "<Figure size 432x288 with 1 Axes>"
      ]
     },
     "metadata": {
      "needs_background": "light"
     },
     "output_type": "display_data"
    },
    {
     "data": {
      "image/png": "[encoded data removed]",
      "text/plain": [
       "<Figure size 432x288 with 1 Axes>"
      ]
     },
     "metadata": {
      "needs_background": "light"
     },
     "output_type": "display_data"
    },
    {
     "data": {
      "image/png": "[encoded data removed]",
      "text/plain": [
       "<Figure size 432x288 with 1 Axes>"
      ]
     },
     "metadata": {
      "needs_background": "light"
     },
     "output_type": "display_data"
    },
    {
     "data": {
      "image/png": "[encoded data removed]",
      "text/plain": [
       "<Figure size 432x288 with 1 Axes>"
      ]
     },
     "metadata": {
      "needs_background": "light"
     },
     "output_type": "display_data"
    },
    {
     "data": {
      "image/png": "[encoded data removed]",
      "text/plain": [
       "<Figure size 432x288 with 1 Axes>"
      ]
     },
     "metadata": {
      "needs_background": "light"
     },
     "output_type": "display_data"
    },
    {
     "data": {
      "image/png": "[encoded data removed]",
      "text/plain": [
       "<Figure size 432x288 with 1 Axes>"
      ]
     },
     "metadata": {
      "needs_background": "light"
     },
     "output_type": "display_data"
    },
    {
     "data": {
      "image/png": "[encoded data removed]",
      "text/plain": [
       "<Figure size 432x288 with 1 Axes>"
      ]
     },
     "metadata": {
      "needs_background": "light"
     },
     "output_type": "display_data"
    },
    {
     "data": {
      "image/png": "[encoded data removed]",
      "text/plain": [
       "<Figure size 432x288 with 1 Axes>"
      ]
     },
     "metadata": {
      "needs_background": "light"
     },
     "output_type": "display_data"
    },
    {
     "data": {
      "image/png": "[encoded data removed]",
      "text/plain": [
       "<Figure size 432x288 with 1 Axes>"
      ]
     },
     "metadata": {
      "needs_background": "light"
     },
     "output_type": "display_data"
    },
    {
     "data": {
      "image/png": "[encoded data removed]",
      "text/plain": [
       "<Figure size 432x288 with 1 Axes>"
      ]
     },
     "metadata": {
      "needs_background": "light"
     },
     "output_type": "display_data"
    },
    {
     "data": {
      "image/png": "[encoded data removed]",
      "text/plain": [
       "<Figure size 432x288 with 1 Axes>"
      ]
     },
     "metadata": {
      "needs_background": "light"
     },
     "output_type": "display_data"
    },
    {
     "data": {
      "image/png": "[encoded data removed]",
      "text/plain": [
       "<Figure size 432x288 with 1 Axes>"
      ]
     },
     "metadata": {
      "needs_background": "light"
     },
     "output_type": "display_data"
    },
    {
     "data": {
      "image/png": "[encoded data removed]",
      "text/plain": [
       "<Figure size 432x288 with 1 Axes>"
      ]
     },
     "metadata": {
      "needs_background": "light"
     },
     "output_type": "display_data"
    },
    {
     "data": {
      "image/png": "[encoded data removed]",
      "text/plain": [
       "<Figure size 432x288 with 1 Axes>"
      ]
     },
     "metadata": {
      "needs_background": "light"
     },
     "output_type": "display_data"
    },
    {
     "data": {
      "image/png": "[encoded data removed]",
      "text/plain": [
       "<Figure size 432x288 with 1 Axes>"
      ]
     },
     "metadata": {
      "needs_background": "light"
     },
     "output_type": "display_data"
    },
    {
     "data": {
      "image/png": "[encoded data removed]",
      "text/plain": [
       "<Figure size 432x288 with 1 Axes>"
      ]
     },
     "metadata": {
      "needs_background": "light"
     },
     "output_type": "display_data"
    },
    {
     "data": {
      "image/png": "[encoded data removed]",
      "text/plain": [
       "<Figure size 432x288 with 1 Axes>"
      ]
     },
     "metadata": {
      "needs_background": "light"
     },
     "output_type": "display_data"
    },
    {
     "data": {
      "image/png": "[encoded data removed]",
      "text/plain": [
       "<Figure size 432x288 with 1 Axes>"
      ]
     },
     "metadata": {
      "needs_background": "light"
     },
     "output_type": "display_data"
    },
    {
     "data": {
      "image/png": "[encoded data removed]",
      "text/plain": [
       "<Figure size 432x288 with 1 Axes>"
      ]
     },
     "metadata": {
      "needs_background": "light"
     },
     "output_type": "display_data"
    },
    {
     "data": {
      "image/png": "[encoded data removed]",
      "text/plain": [
       "<Figure size 432x288 with 1 Axes>"
      ]
     },
     "metadata": {
      "needs_background": "light"
     },
     "output_type": "display_data"
    },
    {
     "data": {
      "image/png": "[encoded data removed]",
      "text/plain": [
       "<Figure size 432x288 with 1 Axes>"
      ]
     },
     "metadata": {
      "needs_background": "light"
     },
     "output_type": "display_data"
    }
   ],
   "source": [
    "df3 = df2.drop(['TEAM_NAME', 'GAME_DATE', 'index.1', 'index.1',\n",
    "'GAME_ID.1',\n",
    "'TEAM_ID.1',\n",
    "'TEAM_NAME.1',\n",
    "'TEAM_ABBREVIATION.1',\n",
    "'TEAM_CITY', 'MIN.1'], axis=1)\n",
    "for cols in df3.columns:\n",
    "    df2.hist(column=str(cols))"
   ]
  },
  {
   "cell_type": "code",
   "execution_count": 553,
   "id": "e191c59b",
   "metadata": {},
   "outputs": [
    {
     "name": "stdout",
     "output_type": "stream",
     "text": [
      "SEASON_ID\n",
      "MATCHUP\n",
      "WL\n",
      "MIN\n",
      "FGM\n",
      "FGA\n",
      "FG_PCT\n",
      "FG3M\n",
      "FG3A\n",
      "FG3_PCT\n",
      "FTM\n",
      "FTA\n",
      "FT_PCT\n",
      "OREB\n",
      "DREB\n",
      "REB\n",
      "AST\n",
      "STL\n",
      "BLK\n",
      "TOV\n",
      "PF\n",
      "PTS\n",
      "level_0.1\n",
      "E_OFF_RATING\n",
      "OFF_RATING\n",
      "E_DEF_RATING\n",
      "DEF_RATING\n",
      "E_NET_RATING\n",
      "NET_RATING\n",
      "AST_PCT\n",
      "AST_TOV\n",
      "AST_RATIO\n",
      "OREB_PCT\n",
      "DREB_PCT\n",
      "REB_PCT\n",
      "E_TM_TOV_PCT\n",
      "TM_TOV_PCT\n",
      "EFG_PCT\n",
      "TS_PCT\n",
      "USG_PCT\n",
      "E_USG_PCT\n",
      "E_PACE\n",
      "PACE\n",
      "PACE_PER40\n",
      "POSS\n",
      "PIE\n"
     ]
    }
   ],
   "source": [
    "for cols in df3.columns:\n",
    "    print(cols)"
   ]
  },
  {
   "cell_type": "code",
   "execution_count": 554,
   "id": "a8373ccb",
   "metadata": {},
   "outputs": [
    {
     "data": {
      "text/html": [
       "<div>\n",
       "<style scoped>\n",
       "    .dataframe tbody tr th:only-of-type {\n",
       "        vertical-align: middle;\n",
       "    }\n",
       "\n",
       "    .dataframe tbody tr th {\n",
       "        vertical-align: top;\n",
       "    }\n",
       "\n",
       "    .dataframe thead th {\n",
       "        text-align: right;\n",
       "    }\n",
       "</style>\n",
       "<table border=\"1\" class=\"dataframe\">\n",
       "  <thead>\n",
       "    <tr style=\"text-align: right;\">\n",
       "      <th></th>\n",
       "      <th>SEASON_ID</th>\n",
       "      <th>MATCHUP</th>\n",
       "      <th>WL</th>\n",
       "      <th>MIN</th>\n",
       "      <th>FGM</th>\n",
       "      <th>FGA</th>\n",
       "      <th>FG_PCT</th>\n",
       "      <th>FG3M</th>\n",
       "      <th>FG3A</th>\n",
       "      <th>FG3_PCT</th>\n",
       "      <th>FTM</th>\n",
       "      <th>FTA</th>\n",
       "      <th>FT_PCT</th>\n",
       "      <th>OREB</th>\n",
       "      <th>DREB</th>\n",
       "      <th>REB</th>\n",
       "      <th>AST</th>\n",
       "      <th>STL</th>\n",
       "      <th>BLK</th>\n",
       "      <th>TOV</th>\n",
       "      <th>PF</th>\n",
       "      <th>PTS</th>\n",
       "      <th>level_0.1</th>\n",
       "      <th>E_OFF_RATING</th>\n",
       "      <th>OFF_RATING</th>\n",
       "      <th>E_DEF_RATING</th>\n",
       "      <th>DEF_RATING</th>\n",
       "      <th>E_NET_RATING</th>\n",
       "      <th>NET_RATING</th>\n",
       "      <th>AST_PCT</th>\n",
       "      <th>AST_TOV</th>\n",
       "      <th>AST_RATIO</th>\n",
       "      <th>OREB_PCT</th>\n",
       "      <th>DREB_PCT</th>\n",
       "      <th>REB_PCT</th>\n",
       "      <th>E_TM_TOV_PCT</th>\n",
       "      <th>TM_TOV_PCT</th>\n",
       "      <th>EFG_PCT</th>\n",
       "      <th>TS_PCT</th>\n",
       "      <th>USG_PCT</th>\n",
       "      <th>E_USG_PCT</th>\n",
       "      <th>E_PACE</th>\n",
       "      <th>PACE</th>\n",
       "      <th>PACE_PER40</th>\n",
       "      <th>POSS</th>\n",
       "      <th>PIE</th>\n",
       "    </tr>\n",
       "  </thead>\n",
       "  <tbody>\n",
       "    <tr>\n",
       "      <th>12</th>\n",
       "      <td>22018</td>\n",
       "      <td>0</td>\n",
       "      <td>0</td>\n",
       "      <td>240</td>\n",
       "      <td>41</td>\n",
       "      <td>90</td>\n",
       "      <td>0.456</td>\n",
       "      <td>10</td>\n",
       "      <td>36</td>\n",
       "      <td>0.278</td>\n",
       "      <td>15</td>\n",
       "      <td>18</td>\n",
       "      <td>0.833</td>\n",
       "      <td>7</td>\n",
       "      <td>38</td>\n",
       "      <td>45</td>\n",
       "      <td>19</td>\n",
       "      <td>7</td>\n",
       "      <td>3</td>\n",
       "      <td>24</td>\n",
       "      <td>30</td>\n",
       "      <td>107</td>\n",
       "      <td>20</td>\n",
       "      <td>93.1</td>\n",
       "      <td>94.7</td>\n",
       "      <td>106.2</td>\n",
       "      <td>112.5</td>\n",
       "      <td>-13.1</td>\n",
       "      <td>-17.8</td>\n",
       "      <td>0.463</td>\n",
       "      <td>0.79</td>\n",
       "      <td>13.5</td>\n",
       "      <td>0.235</td>\n",
       "      <td>0.690</td>\n",
       "      <td>0.477</td>\n",
       "      <td>20.884</td>\n",
       "      <td>21.2</td>\n",
       "      <td>0.511</td>\n",
       "      <td>0.546</td>\n",
       "      <td>1.0</td>\n",
       "      <td>0.200</td>\n",
       "      <td>116.78</td>\n",
       "      <td>112.5</td>\n",
       "      <td>93.75</td>\n",
       "      <td>113</td>\n",
       "      <td>0.405</td>\n",
       "    </tr>\n",
       "    <tr>\n",
       "      <th>38</th>\n",
       "      <td>22018</td>\n",
       "      <td>0</td>\n",
       "      <td>0</td>\n",
       "      <td>240</td>\n",
       "      <td>41</td>\n",
       "      <td>83</td>\n",
       "      <td>0.494</td>\n",
       "      <td>14</td>\n",
       "      <td>30</td>\n",
       "      <td>0.467</td>\n",
       "      <td>21</td>\n",
       "      <td>36</td>\n",
       "      <td>0.583</td>\n",
       "      <td>11</td>\n",
       "      <td>29</td>\n",
       "      <td>40</td>\n",
       "      <td>27</td>\n",
       "      <td>9</td>\n",
       "      <td>5</td>\n",
       "      <td>19</td>\n",
       "      <td>31</td>\n",
       "      <td>117</td>\n",
       "      <td>46</td>\n",
       "      <td>109.5</td>\n",
       "      <td>110.4</td>\n",
       "      <td>119.2</td>\n",
       "      <td>122.4</td>\n",
       "      <td>-9.7</td>\n",
       "      <td>-12.1</td>\n",
       "      <td>0.659</td>\n",
       "      <td>1.42</td>\n",
       "      <td>18.6</td>\n",
       "      <td>0.250</td>\n",
       "      <td>0.721</td>\n",
       "      <td>0.473</td>\n",
       "      <td>17.784</td>\n",
       "      <td>17.9</td>\n",
       "      <td>0.578</td>\n",
       "      <td>0.592</td>\n",
       "      <td>1.0</td>\n",
       "      <td>0.200</td>\n",
       "      <td>108.38</td>\n",
       "      <td>106.5</td>\n",
       "      <td>88.75</td>\n",
       "      <td>106</td>\n",
       "      <td>0.418</td>\n",
       "    </tr>\n",
       "    <tr>\n",
       "      <th>70</th>\n",
       "      <td>22018</td>\n",
       "      <td>0</td>\n",
       "      <td>1</td>\n",
       "      <td>240</td>\n",
       "      <td>48</td>\n",
       "      <td>98</td>\n",
       "      <td>0.490</td>\n",
       "      <td>22</td>\n",
       "      <td>47</td>\n",
       "      <td>0.468</td>\n",
       "      <td>15</td>\n",
       "      <td>19</td>\n",
       "      <td>0.789</td>\n",
       "      <td>9</td>\n",
       "      <td>35</td>\n",
       "      <td>44</td>\n",
       "      <td>32</td>\n",
       "      <td>9</td>\n",
       "      <td>7</td>\n",
       "      <td>12</td>\n",
       "      <td>21</td>\n",
       "      <td>133</td>\n",
       "      <td>78</td>\n",
       "      <td>121.6</td>\n",
       "      <td>125.5</td>\n",
       "      <td>102.6</td>\n",
       "      <td>105.7</td>\n",
       "      <td>19.0</td>\n",
       "      <td>19.8</td>\n",
       "      <td>0.667</td>\n",
       "      <td>2.67</td>\n",
       "      <td>21.3</td>\n",
       "      <td>0.275</td>\n",
       "      <td>0.655</td>\n",
       "      <td>0.472</td>\n",
       "      <td>10.973</td>\n",
       "      <td>11.3</td>\n",
       "      <td>0.602</td>\n",
       "      <td>0.625</td>\n",
       "      <td>1.0</td>\n",
       "      <td>0.196</td>\n",
       "      <td>108.76</td>\n",
       "      <td>105.5</td>\n",
       "      <td>87.92</td>\n",
       "      <td>106</td>\n",
       "      <td>0.618</td>\n",
       "    </tr>\n",
       "    <tr>\n",
       "      <th>102</th>\n",
       "      <td>22018</td>\n",
       "      <td>1</td>\n",
       "      <td>1</td>\n",
       "      <td>240</td>\n",
       "      <td>37</td>\n",
       "      <td>91</td>\n",
       "      <td>0.407</td>\n",
       "      <td>15</td>\n",
       "      <td>38</td>\n",
       "      <td>0.395</td>\n",
       "      <td>22</td>\n",
       "      <td>31</td>\n",
       "      <td>0.710</td>\n",
       "      <td>10</td>\n",
       "      <td>44</td>\n",
       "      <td>54</td>\n",
       "      <td>28</td>\n",
       "      <td>6</td>\n",
       "      <td>6</td>\n",
       "      <td>15</td>\n",
       "      <td>26</td>\n",
       "      <td>111</td>\n",
       "      <td>110</td>\n",
       "      <td>101.2</td>\n",
       "      <td>100.9</td>\n",
       "      <td>94.2</td>\n",
       "      <td>92.9</td>\n",
       "      <td>7.1</td>\n",
       "      <td>8.1</td>\n",
       "      <td>0.757</td>\n",
       "      <td>1.87</td>\n",
       "      <td>19.0</td>\n",
       "      <td>0.196</td>\n",
       "      <td>0.797</td>\n",
       "      <td>0.504</td>\n",
       "      <td>13.681</td>\n",
       "      <td>13.6</td>\n",
       "      <td>0.489</td>\n",
       "      <td>0.530</td>\n",
       "      <td>1.0</td>\n",
       "      <td>0.202</td>\n",
       "      <td>110.04</td>\n",
       "      <td>111.0</td>\n",
       "      <td>92.50</td>\n",
       "      <td>110</td>\n",
       "      <td>0.534</td>\n",
       "    </tr>\n",
       "    <tr>\n",
       "      <th>150</th>\n",
       "      <td>22018</td>\n",
       "      <td>1</td>\n",
       "      <td>0</td>\n",
       "      <td>240</td>\n",
       "      <td>27</td>\n",
       "      <td>84</td>\n",
       "      <td>0.321</td>\n",
       "      <td>12</td>\n",
       "      <td>40</td>\n",
       "      <td>0.300</td>\n",
       "      <td>19</td>\n",
       "      <td>23</td>\n",
       "      <td>0.826</td>\n",
       "      <td>11</td>\n",
       "      <td>37</td>\n",
       "      <td>48</td>\n",
       "      <td>20</td>\n",
       "      <td>9</td>\n",
       "      <td>8</td>\n",
       "      <td>22</td>\n",
       "      <td>13</td>\n",
       "      <td>85</td>\n",
       "      <td>158</td>\n",
       "      <td>80.9</td>\n",
       "      <td>80.2</td>\n",
       "      <td>92.3</td>\n",
       "      <td>89.8</td>\n",
       "      <td>-11.5</td>\n",
       "      <td>-9.6</td>\n",
       "      <td>0.741</td>\n",
       "      <td>0.91</td>\n",
       "      <td>14.7</td>\n",
       "      <td>0.190</td>\n",
       "      <td>0.792</td>\n",
       "      <td>0.462</td>\n",
       "      <td>20.928</td>\n",
       "      <td>20.8</td>\n",
       "      <td>0.393</td>\n",
       "      <td>0.452</td>\n",
       "      <td>1.0</td>\n",
       "      <td>0.200</td>\n",
       "      <td>105.08</td>\n",
       "      <td>107.0</td>\n",
       "      <td>89.17</td>\n",
       "      <td>106</td>\n",
       "      <td>0.410</td>\n",
       "    </tr>\n",
       "  </tbody>\n",
       "</table>\n",
       "</div>"
      ],
      "text/plain": [
       "     SEASON_ID  MATCHUP  WL  MIN  FGM  FGA  FG_PCT  FG3M  FG3A  FG3_PCT  FTM  \\\n",
       "12       22018        0   0  240   41   90   0.456    10    36    0.278   15   \n",
       "38       22018        0   0  240   41   83   0.494    14    30    0.467   21   \n",
       "70       22018        0   1  240   48   98   0.490    22    47    0.468   15   \n",
       "102      22018        1   1  240   37   91   0.407    15    38    0.395   22   \n",
       "150      22018        1   0  240   27   84   0.321    12    40    0.300   19   \n",
       "\n",
       "     FTA  FT_PCT  OREB  DREB  REB  AST  STL  BLK  TOV  PF  PTS  level_0.1  \\\n",
       "12    18   0.833     7    38   45   19    7    3   24  30  107         20   \n",
       "38    36   0.583    11    29   40   27    9    5   19  31  117         46   \n",
       "70    19   0.789     9    35   44   32    9    7   12  21  133         78   \n",
       "102   31   0.710    10    44   54   28    6    6   15  26  111        110   \n",
       "150   23   0.826    11    37   48   20    9    8   22  13   85        158   \n",
       "\n",
       "     E_OFF_RATING  OFF_RATING  E_DEF_RATING  DEF_RATING  E_NET_RATING  \\\n",
       "12           93.1        94.7         106.2       112.5         -13.1   \n",
       "38          109.5       110.4         119.2       122.4          -9.7   \n",
       "70          121.6       125.5         102.6       105.7          19.0   \n",
       "102         101.2       100.9          94.2        92.9           7.1   \n",
       "150          80.9        80.2          92.3        89.8         -11.5   \n",
       "\n",
       "     NET_RATING  AST_PCT  AST_TOV  AST_RATIO  OREB_PCT  DREB_PCT  REB_PCT  \\\n",
       "12        -17.8    0.463     0.79       13.5     0.235     0.690    0.477   \n",
       "38        -12.1    0.659     1.42       18.6     0.250     0.721    0.473   \n",
       "70         19.8    0.667     2.67       21.3     0.275     0.655    0.472   \n",
       "102         8.1    0.757     1.87       19.0     0.196     0.797    0.504   \n",
       "150        -9.6    0.741     0.91       14.7     0.190     0.792    0.462   \n",
       "\n",
       "     E_TM_TOV_PCT  TM_TOV_PCT  EFG_PCT  TS_PCT  USG_PCT  E_USG_PCT  E_PACE  \\\n",
       "12         20.884        21.2    0.511   0.546      1.0      0.200  116.78   \n",
       "38         17.784        17.9    0.578   0.592      1.0      0.200  108.38   \n",
       "70         10.973        11.3    0.602   0.625      1.0      0.196  108.76   \n",
       "102        13.681        13.6    0.489   0.530      1.0      0.202  110.04   \n",
       "150        20.928        20.8    0.393   0.452      1.0      0.200  105.08   \n",
       "\n",
       "      PACE  PACE_PER40  POSS    PIE  \n",
       "12   112.5       93.75   113  0.405  \n",
       "38   106.5       88.75   106  0.418  \n",
       "70   105.5       87.92   106  0.618  \n",
       "102  111.0       92.50   110  0.534  \n",
       "150  107.0       89.17   106  0.410  "
      ]
     },
     "execution_count": 554,
     "metadata": {},
     "output_type": "execute_result"
    }
   ],
   "source": [
    "df3.head()"
   ]
  },
  {
   "cell_type": "code",
   "execution_count": 555,
   "id": "6e3dc9da",
   "metadata": {
    "scrolled": true
   },
   "outputs": [
    {
     "name": "stderr",
     "output_type": "stream",
     "text": [
      "/Users/ishansheth/opt/anaconda3/lib/python3.8/site-packages/pandas/plotting/_matplotlib/tools.py:196: RuntimeWarning: More than 20 figures have been opened. Figures created through the pyplot interface (`matplotlib.pyplot.figure`) are retained until explicitly closed and may consume too much memory. (To control this warning, see the rcParam `figure.max_open_warning`).\n",
      "  fig = plt.figure(**fig_kw)\n"
     ]
    },
    {
     "data": {
      "image/png": "[encoded data removed]",
      "text/plain": [
       "<Figure size 432x288 with 1 Axes>"
      ]
     },
     "metadata": {
      "needs_background": "light"
     },
     "output_type": "display_data"
    },
    {
     "data": {
      "image/png": "[encoded data removed]",
      "text/plain": [
       "<Figure size 432x288 with 1 Axes>"
      ]
     },
     "metadata": {
      "needs_background": "light"
     },
     "output_type": "display_data"
    },
    {
     "data": {
      "image/png": "[encoded data removed]",
      "text/plain": [
       "<Figure size 432x288 with 1 Axes>"
      ]
     },
     "metadata": {
      "needs_background": "light"
     },
     "output_type": "display_data"
    },
    {
     "data": {
      "image/png": "[encoded data removed]",
      "text/plain": [
       "<Figure size 432x288 with 1 Axes>"
      ]
     },
     "metadata": {
      "needs_background": "light"
     },
     "output_type": "display_data"
    },
    {
     "data": {
      "image/png": "[encoded data removed]",
      "text/plain": [
       "<Figure size 432x288 with 1 Axes>"
      ]
     },
     "metadata": {
      "needs_background": "light"
     },
     "output_type": "display_data"
    },
    {
     "data": {
      "image/png": "[encoded data removed]",
      "text/plain": [
       "<Figure size 432x288 with 1 Axes>"
      ]
     },
     "metadata": {
      "needs_background": "light"
     },
     "output_type": "display_data"
    },
    {
     "data": {
      "image/png": "[encoded data removed]",
      "text/plain": [
       "<Figure size 432x288 with 1 Axes>"
      ]
     },
     "metadata": {
      "needs_background": "light"
     },
     "output_type": "display_data"
    },
    {
     "data": {
      "image/png": "[encoded data removed]",
      "text/plain": [
       "<Figure size 432x288 with 1 Axes>"
      ]
     },
     "metadata": {
      "needs_background": "light"
     },
     "output_type": "display_data"
    },
    {
     "data": {
      "image/png": "[encoded data removed]",
      "text/plain": [
       "<Figure size 432x288 with 1 Axes>"
      ]
     },
     "metadata": {
      "needs_background": "light"
     },
     "output_type": "display_data"
    },
    {
     "data": {
      "image/png": "[encoded data removed]",
      "text/plain": [
       "<Figure size 432x288 with 1 Axes>"
      ]
     },
     "metadata": {
      "needs_background": "light"
     },
     "output_type": "display_data"
    },
    {
     "data": {
      "image/png": "[encoded data removed]",
      "text/plain": [
       "<Figure size 432x288 with 1 Axes>"
      ]
     },
     "metadata": {
      "needs_background": "light"
     },
     "output_type": "display_data"
    },
    {
     "data": {
      "image/png": "[encoded data removed]",
      "text/plain": [
       "<Figure size 432x288 with 1 Axes>"
      ]
     },
     "metadata": {
      "needs_background": "light"
     },
     "output_type": "display_data"
    },
    {
     "data": {
      "image/png": "[encoded data removed]",
      "text/plain": [
       "<Figure size 432x288 with 1 Axes>"
      ]
     },
     "metadata": {
      "needs_background": "light"
     },
     "output_type": "display_data"
    },
    {
     "data": {
      "image/png": "[encoded data removed]",
      "text/plain": [
       "<Figure size 432x288 with 1 Axes>"
      ]
     },
     "metadata": {
      "needs_background": "light"
     },
     "output_type": "display_data"
    },
    {
     "data": {
      "image/png": "[encoded data removed]",
      "text/plain": [
       "<Figure size 432x288 with 1 Axes>"
      ]
     },
     "metadata": {
      "needs_background": "light"
     },
     "output_type": "display_data"
    },
    {
     "data": {
      "image/png": "[encoded data removed]",
      "text/plain": [
       "<Figure size 432x288 with 1 Axes>"
      ]
     },
     "metadata": {
      "needs_background": "light"
     },
     "output_type": "display_data"
    },
    {
     "data": {
      "image/png": "[encoded data removed]",
      "text/plain": [
       "<Figure size 432x288 with 1 Axes>"
      ]
     },
     "metadata": {
      "needs_background": "light"
     },
     "output_type": "display_data"
    },
    {
     "data": {
      "image/png": "[encoded data removed]",
      "text/plain": [
       "<Figure size 432x288 with 1 Axes>"
      ]
     },
     "metadata": {
      "needs_background": "light"
     },
     "output_type": "display_data"
    },
    {
     "data": {
      "image/png": "[encoded data removed]",
      "text/plain": [
       "<Figure size 432x288 with 1 Axes>"
      ]
     },
     "metadata": {
      "needs_background": "light"
     },
     "output_type": "display_data"
    },
    {
     "data": {
      "image/png": "[encoded data removed]",
      "text/plain": [
       "<Figure size 432x288 with 1 Axes>"
      ]
     },
     "metadata": {
      "needs_background": "light"
     },
     "output_type": "display_data"
    },
    {
     "data": {
      "image/png": "[encoded data removed]",
      "text/plain": [
       "<Figure size 432x288 with 1 Axes>"
      ]
     },
     "metadata": {
      "needs_background": "light"
     },
     "output_type": "display_data"
    },
    {
     "data": {
      "image/png": "[encoded data removed]",
      "text/plain": [
       "<Figure size 432x288 with 1 Axes>"
      ]
     },
     "metadata": {
      "needs_background": "light"
     },
     "output_type": "display_data"
    },
    {
     "data": {
      "image/png": "[encoded data removed]",
      "text/plain": [
       "<Figure size 432x288 with 1 Axes>"
      ]
     },
     "metadata": {
      "needs_background": "light"
     },
     "output_type": "display_data"
    },
    {
     "data": {
      "image/png": "[encoded data removed]",
      "text/plain": [
       "<Figure size 432x288 with 1 Axes>"
      ]
     },
     "metadata": {
      "needs_background": "light"
     },
     "output_type": "display_data"
    },
    {
     "data": {
      "image/png": "[encoded data removed]",
      "text/plain": [
       "<Figure size 432x288 with 1 Axes>"
      ]
     },
     "metadata": {
      "needs_background": "light"
     },
     "output_type": "display_data"
    },
    {
     "data": {
      "image/png": "[encoded data removed]",
      "text/plain": [
       "<Figure size 432x288 with 1 Axes>"
      ]
     },
     "metadata": {
      "needs_background": "light"
     },
     "output_type": "display_data"
    },
    {
     "data": {
      "image/png": "[encoded data removed]",
      "text/plain": [
       "<Figure size 432x288 with 1 Axes>"
      ]
     },
     "metadata": {
      "needs_background": "light"
     },
     "output_type": "display_data"
    },
    {
     "data": {
      "image/png": "[encoded data removed]",
      "text/plain": [
       "<Figure size 432x288 with 1 Axes>"
      ]
     },
     "metadata": {
      "needs_background": "light"
     },
     "output_type": "display_data"
    },
    {
     "data": {
      "image/png": "[encoded data removed]",
      "text/plain": [
       "<Figure size 432x288 with 1 Axes>"
      ]
     },
     "metadata": {
      "needs_background": "light"
     },
     "output_type": "display_data"
    },
    {
     "data": {
      "image/png": "[encoded data removed]",
      "text/plain": [
       "<Figure size 432x288 with 1 Axes>"
      ]
     },
     "metadata": {
      "needs_background": "light"
     },
     "output_type": "display_data"
    },
    {
     "data": {
      "image/png": "[encoded data removed]",
      "text/plain": [
       "<Figure size 432x288 with 1 Axes>"
      ]
     },
     "metadata": {
      "needs_background": "light"
     },
     "output_type": "display_data"
    },
    {
     "data": {
      "image/png": "[encoded data removed]",
      "text/plain": [
       "<Figure size 432x288 with 1 Axes>"
      ]
     },
     "metadata": {
      "needs_background": "light"
     },
     "output_type": "display_data"
    },
    {
     "data": {
      "image/png": "[encoded data removed]",
      "text/plain": [
       "<Figure size 432x288 with 1 Axes>"
      ]
     },
     "metadata": {
      "needs_background": "light"
     },
     "output_type": "display_data"
    },
    {
     "data": {
      "image/png": "[encoded data removed]",
      "text/plain": [
       "<Figure size 432x288 with 1 Axes>"
      ]
     },
     "metadata": {
      "needs_background": "light"
     },
     "output_type": "display_data"
    },
    {
     "data": {
      "image/png": "[encoded data removed]",
      "text/plain": [
       "<Figure size 432x288 with 1 Axes>"
      ]
     },
     "metadata": {
      "needs_background": "light"
     },
     "output_type": "display_data"
    },
    {
     "data": {
      "image/png": "[encoded data removed]",
      "text/plain": [
       "<Figure size 432x288 with 1 Axes>"
      ]
     },
     "metadata": {
      "needs_background": "light"
     },
     "output_type": "display_data"
    },
    {
     "data": {
      "image/png": "[encoded data removed]",
      "text/plain": [
       "<Figure size 432x288 with 1 Axes>"
      ]
     },
     "metadata": {
      "needs_background": "light"
     },
     "output_type": "display_data"
    },
    {
     "data": {
      "image/png": "[encoded data removed]",
      "text/plain": [
       "<Figure size 432x288 with 1 Axes>"
      ]
     },
     "metadata": {
      "needs_background": "light"
     },
     "output_type": "display_data"
    },
    {
     "data": {
      "image/png": "[encoded data removed]",
      "text/plain": [
       "<Figure size 432x288 with 1 Axes>"
      ]
     },
     "metadata": {
      "needs_background": "light"
     },
     "output_type": "display_data"
    },
    {
     "data": {
      "image/png": "[encoded data removed]",
      "text/plain": [
       "<Figure size 432x288 with 1 Axes>"
      ]
     },
     "metadata": {
      "needs_background": "light"
     },
     "output_type": "display_data"
    },
    {
     "data": {
      "image/png": "[encoded data removed]",
      "text/plain": [
       "<Figure size 432x288 with 1 Axes>"
      ]
     },
     "metadata": {
      "needs_background": "light"
     },
     "output_type": "display_data"
    },
    {
     "data": {
      "image/png": "[encoded data removed]",
      "text/plain": [
       "<Figure size 432x288 with 1 Axes>"
      ]
     },
     "metadata": {
      "needs_background": "light"
     },
     "output_type": "display_data"
    },
    {
     "data": {
      "image/png": "[encoded data removed]",
      "text/plain": [
       "<Figure size 432x288 with 1 Axes>"
      ]
     },
     "metadata": {
      "needs_background": "light"
     },
     "output_type": "display_data"
    },
    {
     "data": {
      "image/png": "[encoded data removed]",
      "text/plain": [
       "<Figure size 432x288 with 1 Axes>"
      ]
     },
     "metadata": {
      "needs_background": "light"
     },
     "output_type": "display_data"
    },
    {
     "data": {
      "image/png": "[encoded data removed]",
      "text/plain": [
       "<Figure size 432x288 with 1 Axes>"
      ]
     },
     "metadata": {
      "needs_background": "light"
     },
     "output_type": "display_data"
    },
    {
     "data": {
      "image/png": "[encoded data removed]",
      "text/plain": [
       "<Figure size 432x288 with 1 Axes>"
      ]
     },
     "metadata": {
      "needs_background": "light"
     },
     "output_type": "display_data"
    }
   ],
   "source": [
    "for cols in df3.columns:\n",
    "    df3.hist(column=str(cols))"
   ]
  },
  {
   "cell_type": "markdown",
   "id": "a7d7110a",
   "metadata": {},
   "source": [
    "### 1.7 - Create Program to get the 7 Game Average for Each Team\n",
    "For each game, this function will take the average stats of the last 7 games entering that game. This gives a good estimate of a team's performance entering each game. The first 7 games of the season were eliminated for each team because I could not calculate the 7 game average."
   ]
  },
  {
   "cell_type": "code",
   "execution_count": 556,
   "id": "96765fdf",
   "metadata": {},
   "outputs": [
    {
     "name": "stdout",
     "output_type": "stream",
     "text": [
      "['Atlanta Hawks', 'Boston Celtics', 'Brooklyn Nets', 'Charlotte Hornets', 'Chicago Bulls', 'Cleveland Cavaliers', 'Dallas Mavericks', 'Denver Nuggets', 'Detroit Pistons', 'Golden State Warriors', 'Houston Rockets', 'Indiana Pacers', 'LA Clippers', 'Los Angeles Lakers', 'Memphis Grizzlies', 'Miami Heat', 'Milwaukee Bucks', 'Minnesota Timberwolves', 'New Orleans Pelicans', 'New York Knicks', 'Oklahoma City Thunder', 'Orlando Magic', 'Philadelphia 76ers', 'Phoenix Suns', 'Portland Trail Blazers', 'Sacramento Kings', 'San Antonio Spurs', 'Toronto Raptors', 'Utah Jazz', 'Washington Wizards']\n"
     ]
    }
   ],
   "source": [
    "team_list = []\n",
    "team_list2 = []\n",
    "for games in df2['TEAM_NAME']:\n",
    "    team_list.append(games)\n",
    "    for i in team_list:\n",
    "        if i not in team_list2:\n",
    "            team_list2.append(i)\n",
    "print(team_list2)"
   ]
  },
  {
   "cell_type": "code",
   "execution_count": 557,
   "id": "f8909d90",
   "metadata": {},
   "outputs": [
    {
     "name": "stdout",
     "output_type": "stream",
     "text": [
      "[22018, 22019, 22020]\n"
     ]
    }
   ],
   "source": [
    "season_list = []\n",
    "season_list2 = []\n",
    "for games in df2['SEASON_ID']:\n",
    "    season_list.append(games)\n",
    "    for i in season_list:\n",
    "        if i not in season_list2:\n",
    "            season_list2.append(i)\n",
    "print(season_list2)"
   ]
  },
  {
   "cell_type": "code",
   "execution_count": 9,
   "id": "40b27d78",
   "metadata": {},
   "outputs": [
    {
     "data": {
      "text/html": [
       "<div>\n",
       "<style scoped>\n",
       "    .dataframe tbody tr th:only-of-type {\n",
       "        vertical-align: middle;\n",
       "    }\n",
       "\n",
       "    .dataframe tbody tr th {\n",
       "        vertical-align: top;\n",
       "    }\n",
       "\n",
       "    .dataframe thead th {\n",
       "        text-align: right;\n",
       "    }\n",
       "</style>\n",
       "<table border=\"1\" class=\"dataframe\">\n",
       "  <thead>\n",
       "    <tr style=\"text-align: right;\">\n",
       "      <th></th>\n",
       "      <th>SEASON_ID</th>\n",
       "      <th>TEAM_NAME</th>\n",
       "      <th>GAME_DATE</th>\n",
       "      <th>MATCHUP</th>\n",
       "      <th>WL</th>\n",
       "      <th>MIN</th>\n",
       "      <th>FGM</th>\n",
       "      <th>FGA</th>\n",
       "      <th>FG_PCT</th>\n",
       "      <th>FG3M</th>\n",
       "      <th>...</th>\n",
       "      <th>TM_TOV_PCT</th>\n",
       "      <th>EFG_PCT</th>\n",
       "      <th>TS_PCT</th>\n",
       "      <th>USG_PCT</th>\n",
       "      <th>E_USG_PCT</th>\n",
       "      <th>E_PACE</th>\n",
       "      <th>PACE</th>\n",
       "      <th>PACE_PER40</th>\n",
       "      <th>POSS</th>\n",
       "      <th>PIE</th>\n",
       "    </tr>\n",
       "  </thead>\n",
       "  <tbody>\n",
       "    <tr>\n",
       "      <th>12</th>\n",
       "      <td>22018</td>\n",
       "      <td>Atlanta Hawks</td>\n",
       "      <td>2018-10-17</td>\n",
       "      <td>0</td>\n",
       "      <td>0</td>\n",
       "      <td>240</td>\n",
       "      <td>41</td>\n",
       "      <td>90</td>\n",
       "      <td>0.456</td>\n",
       "      <td>10</td>\n",
       "      <td>...</td>\n",
       "      <td>21.2</td>\n",
       "      <td>0.511</td>\n",
       "      <td>0.546</td>\n",
       "      <td>1.0</td>\n",
       "      <td>0.200</td>\n",
       "      <td>116.78</td>\n",
       "      <td>112.5</td>\n",
       "      <td>93.75</td>\n",
       "      <td>113</td>\n",
       "      <td>0.405</td>\n",
       "    </tr>\n",
       "    <tr>\n",
       "      <th>38</th>\n",
       "      <td>22018</td>\n",
       "      <td>Atlanta Hawks</td>\n",
       "      <td>2018-10-19</td>\n",
       "      <td>0</td>\n",
       "      <td>0</td>\n",
       "      <td>240</td>\n",
       "      <td>41</td>\n",
       "      <td>83</td>\n",
       "      <td>0.494</td>\n",
       "      <td>14</td>\n",
       "      <td>...</td>\n",
       "      <td>17.9</td>\n",
       "      <td>0.578</td>\n",
       "      <td>0.592</td>\n",
       "      <td>1.0</td>\n",
       "      <td>0.200</td>\n",
       "      <td>108.38</td>\n",
       "      <td>106.5</td>\n",
       "      <td>88.75</td>\n",
       "      <td>106</td>\n",
       "      <td>0.418</td>\n",
       "    </tr>\n",
       "    <tr>\n",
       "      <th>70</th>\n",
       "      <td>22018</td>\n",
       "      <td>Atlanta Hawks</td>\n",
       "      <td>2018-10-21</td>\n",
       "      <td>0</td>\n",
       "      <td>1</td>\n",
       "      <td>240</td>\n",
       "      <td>48</td>\n",
       "      <td>98</td>\n",
       "      <td>0.490</td>\n",
       "      <td>22</td>\n",
       "      <td>...</td>\n",
       "      <td>11.3</td>\n",
       "      <td>0.602</td>\n",
       "      <td>0.625</td>\n",
       "      <td>1.0</td>\n",
       "      <td>0.196</td>\n",
       "      <td>108.76</td>\n",
       "      <td>105.5</td>\n",
       "      <td>87.92</td>\n",
       "      <td>106</td>\n",
       "      <td>0.618</td>\n",
       "    </tr>\n",
       "    <tr>\n",
       "      <th>102</th>\n",
       "      <td>22018</td>\n",
       "      <td>Atlanta Hawks</td>\n",
       "      <td>2018-10-24</td>\n",
       "      <td>1</td>\n",
       "      <td>1</td>\n",
       "      <td>240</td>\n",
       "      <td>37</td>\n",
       "      <td>91</td>\n",
       "      <td>0.407</td>\n",
       "      <td>15</td>\n",
       "      <td>...</td>\n",
       "      <td>13.6</td>\n",
       "      <td>0.489</td>\n",
       "      <td>0.530</td>\n",
       "      <td>1.0</td>\n",
       "      <td>0.202</td>\n",
       "      <td>110.04</td>\n",
       "      <td>111.0</td>\n",
       "      <td>92.50</td>\n",
       "      <td>110</td>\n",
       "      <td>0.534</td>\n",
       "    </tr>\n",
       "    <tr>\n",
       "      <th>150</th>\n",
       "      <td>22018</td>\n",
       "      <td>Atlanta Hawks</td>\n",
       "      <td>2018-10-27</td>\n",
       "      <td>1</td>\n",
       "      <td>0</td>\n",
       "      <td>240</td>\n",
       "      <td>27</td>\n",
       "      <td>84</td>\n",
       "      <td>0.321</td>\n",
       "      <td>12</td>\n",
       "      <td>...</td>\n",
       "      <td>20.8</td>\n",
       "      <td>0.393</td>\n",
       "      <td>0.452</td>\n",
       "      <td>1.0</td>\n",
       "      <td>0.200</td>\n",
       "      <td>105.08</td>\n",
       "      <td>107.0</td>\n",
       "      <td>89.17</td>\n",
       "      <td>106</td>\n",
       "      <td>0.410</td>\n",
       "    </tr>\n",
       "  </tbody>\n",
       "</table>\n",
       "<p>5 rows × 55 columns</p>\n",
       "</div>"
      ],
      "text/plain": [
       "     SEASON_ID      TEAM_NAME   GAME_DATE  MATCHUP  WL  MIN  FGM  FGA  FG_PCT  \\\n",
       "12       22018  Atlanta Hawks  2018-10-17        0   0  240   41   90   0.456   \n",
       "38       22018  Atlanta Hawks  2018-10-19        0   0  240   41   83   0.494   \n",
       "70       22018  Atlanta Hawks  2018-10-21        0   1  240   48   98   0.490   \n",
       "102      22018  Atlanta Hawks  2018-10-24        1   1  240   37   91   0.407   \n",
       "150      22018  Atlanta Hawks  2018-10-27        1   0  240   27   84   0.321   \n",
       "\n",
       "     FG3M  ...  TM_TOV_PCT  EFG_PCT  TS_PCT  USG_PCT  E_USG_PCT  E_PACE  \\\n",
       "12     10  ...        21.2    0.511   0.546      1.0      0.200  116.78   \n",
       "38     14  ...        17.9    0.578   0.592      1.0      0.200  108.38   \n",
       "70     22  ...        11.3    0.602   0.625      1.0      0.196  108.76   \n",
       "102    15  ...        13.6    0.489   0.530      1.0      0.202  110.04   \n",
       "150    12  ...        20.8    0.393   0.452      1.0      0.200  105.08   \n",
       "\n",
       "      PACE  PACE_PER40  POSS    PIE  \n",
       "12   112.5       93.75   113  0.405  \n",
       "38   106.5       88.75   106  0.418  \n",
       "70   105.5       87.92   106  0.618  \n",
       "102  111.0       92.50   110  0.534  \n",
       "150  107.0       89.17   106  0.410  \n",
       "\n",
       "[5 rows x 55 columns]"
      ]
     },
     "execution_count": 9,
     "metadata": {},
     "output_type": "execute_result"
    }
   ],
   "source": [
    "df2 = df2.sort_values(['SEASON_ID', 'TEAM_NAME'])\n",
    "pd.set_option('display.max_rows', None)\n",
    "df2.head()"
   ]
  },
  {
   "cell_type": "code",
   "execution_count": 569,
   "id": "166e9096",
   "metadata": {},
   "outputs": [],
   "source": [
    "grouped = df2.groupby(df2.SEASON_ID)\n",
    "new_group = grouped.get_group(22018)"
   ]
  },
  {
   "cell_type": "code",
   "execution_count": 1,
   "id": "63fd1bdc",
   "metadata": {},
   "outputs": [
    {
     "ename": "NameError",
     "evalue": "name 'df2' is not defined",
     "output_type": "error",
     "traceback": [
      "\u001b[0;31m---------------------------------------------------------------------------\u001b[0m",
      "\u001b[0;31mNameError\u001b[0m                                 Traceback (most recent call last)",
      "\u001b[0;32m<ipython-input-1-1c8ad4829bb2>\u001b[0m in \u001b[0;36m<module>\u001b[0;34m\u001b[0m\n\u001b[0;32m----> 1\u001b[0;31m \u001b[0mgrouped2\u001b[0m \u001b[0;34m=\u001b[0m \u001b[0mdf2\u001b[0m\u001b[0;34m.\u001b[0m\u001b[0mgroupby\u001b[0m\u001b[0;34m(\u001b[0m\u001b[0mdf2\u001b[0m\u001b[0;34m.\u001b[0m\u001b[0mSEASON_ID\u001b[0m\u001b[0;34m)\u001b[0m\u001b[0;34m\u001b[0m\u001b[0;34m\u001b[0m\u001b[0m\n\u001b[0m\u001b[1;32m      2\u001b[0m \u001b[0mfinal\u001b[0m \u001b[0;34m=\u001b[0m \u001b[0mpd\u001b[0m\u001b[0;34m.\u001b[0m\u001b[0mDataFrame\u001b[0m\u001b[0;34m(\u001b[0m\u001b[0;34m)\u001b[0m\u001b[0;34m\u001b[0m\u001b[0;34m\u001b[0m\u001b[0m\n\u001b[1;32m      3\u001b[0m \u001b[0;32mfor\u001b[0m \u001b[0mseasons\u001b[0m \u001b[0;32min\u001b[0m \u001b[0mseason_list2\u001b[0m\u001b[0;34m:\u001b[0m\u001b[0;34m\u001b[0m\u001b[0;34m\u001b[0m\u001b[0m\n\u001b[1;32m      4\u001b[0m     \u001b[0mnew_season\u001b[0m \u001b[0;34m=\u001b[0m \u001b[0mgrouped2\u001b[0m\u001b[0;34m.\u001b[0m\u001b[0mget_group\u001b[0m\u001b[0;34m(\u001b[0m\u001b[0mseasons\u001b[0m\u001b[0;34m)\u001b[0m\u001b[0;34m\u001b[0m\u001b[0;34m\u001b[0m\u001b[0m\n\u001b[1;32m      5\u001b[0m     \u001b[0;32mfor\u001b[0m \u001b[0mteams\u001b[0m \u001b[0;32min\u001b[0m \u001b[0mteam_list2\u001b[0m\u001b[0;34m:\u001b[0m\u001b[0;34m\u001b[0m\u001b[0;34m\u001b[0m\u001b[0m\n",
      "\u001b[0;31mNameError\u001b[0m: name 'df2' is not defined"
     ]
    }
   ],
   "source": [
    "grouped2 = df2.groupby(df2.SEASON_ID)\n",
    "final = pd.DataFrame()\n",
    "for seasons in season_list2:\n",
    "    new_season = grouped2.get_group(seasons)\n",
    "    for teams in team_list2:\n",
    "        grouped = new_season.groupby(new_season.TEAM_NAME)\n",
    "        Hawks = grouped.get_group(teams)\n",
    "        Hawks = Hawks.reset_index()\n",
    "        Hawks = Hawks.drop(['index'], axis=1)\n",
    "        Hawks = Hawks.reset_index()\n",
    "        Hawks = Hawks.astype({\"index\": int})\n",
    "        Hawks2 = Hawks.drop(['TEAM_NAME', 'GAME_DATE', 'TEAM_NAME.1', 'TEAM_ABBREVIATION.1', 'TEAM_CITY', 'MIN.1'], axis=1)\n",
    "        parts = Hawks2.columns\n",
    "        newlist = []\n",
    "        for part in parts:\n",
    "            for ind in Hawks['index']:\n",
    "                if ind > 6:\n",
    "                    newlist.append(Hawks[part][ind-7:ind].mean())\n",
    "            newlist2 = [0, 0, 0 , 0, 0, 0, 0] + newlist\n",
    "            print(newlist2)\n",
    "            part = pd.DataFrame(newlist2, columns=['avg_'+part])\n",
    "            Hawks = pd.concat([Hawks, part], axis=1).reindex(Hawks.index)\n",
    "            newlist = []\n",
    "            part = pd.DataFrame()\n",
    "        N = 7\n",
    "        Hawks = Hawks.iloc[N: , :]\n",
    "        Hawks2 = Hawks.drop(['TEAM_NAME', 'GAME_DATE', 'TEAM_NAME.1', 'TEAM_ABBREVIATION.1', 'TEAM_CITY', 'MIN.1'], axis=1)\n",
    "        for cols in Hawks2.columns:\n",
    "            Hawks = Hawks.astype({cols: float})\n",
    "        final = pd.concat([final, Hawks])\n",
    "final.shape"
   ]
  },
  {
   "cell_type": "code",
   "execution_count": 582,
   "id": "e72a9072",
   "metadata": {},
   "outputs": [
    {
     "data": {
      "text/html": [
       "<div>\n",
       "<style scoped>\n",
       "    .dataframe tbody tr th:only-of-type {\n",
       "        vertical-align: middle;\n",
       "    }\n",
       "\n",
       "    .dataframe tbody tr th {\n",
       "        vertical-align: top;\n",
       "    }\n",
       "\n",
       "    .dataframe thead th {\n",
       "        text-align: right;\n",
       "    }\n",
       "</style>\n",
       "<table border=\"1\" class=\"dataframe\">\n",
       "  <thead>\n",
       "    <tr style=\"text-align: right;\">\n",
       "      <th></th>\n",
       "      <th>index</th>\n",
       "      <th>SEASON_ID</th>\n",
       "      <th>TEAM_NAME</th>\n",
       "      <th>GAME_DATE</th>\n",
       "      <th>MATCHUP</th>\n",
       "      <th>WL</th>\n",
       "      <th>MIN</th>\n",
       "      <th>FGM</th>\n",
       "      <th>FGA</th>\n",
       "      <th>FG_PCT</th>\n",
       "      <th>FG3M</th>\n",
       "      <th>FG3A</th>\n",
       "      <th>FG3_PCT</th>\n",
       "      <th>FTM</th>\n",
       "      <th>FTA</th>\n",
       "      <th>FT_PCT</th>\n",
       "      <th>OREB</th>\n",
       "      <th>DREB</th>\n",
       "      <th>REB</th>\n",
       "      <th>AST</th>\n",
       "      <th>STL</th>\n",
       "      <th>BLK</th>\n",
       "      <th>TOV</th>\n",
       "      <th>PF</th>\n",
       "      <th>PTS</th>\n",
       "      <th>level_0.1</th>\n",
       "      <th>index.1</th>\n",
       "      <th>GAME_ID.1</th>\n",
       "      <th>TEAM_ID.1</th>\n",
       "      <th>TEAM_NAME.1</th>\n",
       "      <th>TEAM_ABBREVIATION.1</th>\n",
       "      <th>TEAM_CITY</th>\n",
       "      <th>MIN.1</th>\n",
       "      <th>E_OFF_RATING</th>\n",
       "      <th>OFF_RATING</th>\n",
       "      <th>E_DEF_RATING</th>\n",
       "      <th>DEF_RATING</th>\n",
       "      <th>E_NET_RATING</th>\n",
       "      <th>NET_RATING</th>\n",
       "      <th>AST_PCT</th>\n",
       "      <th>AST_TOV</th>\n",
       "      <th>AST_RATIO</th>\n",
       "      <th>OREB_PCT</th>\n",
       "      <th>DREB_PCT</th>\n",
       "      <th>REB_PCT</th>\n",
       "      <th>E_TM_TOV_PCT</th>\n",
       "      <th>TM_TOV_PCT</th>\n",
       "      <th>EFG_PCT</th>\n",
       "      <th>TS_PCT</th>\n",
       "      <th>USG_PCT</th>\n",
       "      <th>E_USG_PCT</th>\n",
       "      <th>E_PACE</th>\n",
       "      <th>PACE</th>\n",
       "      <th>PACE_PER40</th>\n",
       "      <th>POSS</th>\n",
       "      <th>PIE</th>\n",
       "      <th>avg_index</th>\n",
       "      <th>avg_SEASON_ID</th>\n",
       "      <th>avg_MATCHUP</th>\n",
       "      <th>avg_WL</th>\n",
       "      <th>avg_MIN</th>\n",
       "      <th>avg_FGM</th>\n",
       "      <th>avg_FGA</th>\n",
       "      <th>avg_FG_PCT</th>\n",
       "      <th>avg_FG3M</th>\n",
       "      <th>avg_FG3A</th>\n",
       "      <th>avg_FG3_PCT</th>\n",
       "      <th>avg_FTM</th>\n",
       "      <th>avg_FTA</th>\n",
       "      <th>avg_FT_PCT</th>\n",
       "      <th>avg_OREB</th>\n",
       "      <th>avg_DREB</th>\n",
       "      <th>avg_REB</th>\n",
       "      <th>avg_AST</th>\n",
       "      <th>avg_STL</th>\n",
       "      <th>avg_BLK</th>\n",
       "      <th>avg_TOV</th>\n",
       "      <th>avg_PF</th>\n",
       "      <th>avg_PTS</th>\n",
       "      <th>avg_level_0.1</th>\n",
       "      <th>avg_index.1</th>\n",
       "      <th>avg_GAME_ID.1</th>\n",
       "      <th>avg_TEAM_ID.1</th>\n",
       "      <th>avg_E_OFF_RATING</th>\n",
       "      <th>avg_OFF_RATING</th>\n",
       "      <th>avg_E_DEF_RATING</th>\n",
       "      <th>avg_DEF_RATING</th>\n",
       "      <th>avg_E_NET_RATING</th>\n",
       "      <th>avg_NET_RATING</th>\n",
       "      <th>avg_AST_PCT</th>\n",
       "      <th>avg_AST_TOV</th>\n",
       "      <th>avg_AST_RATIO</th>\n",
       "      <th>avg_OREB_PCT</th>\n",
       "      <th>avg_DREB_PCT</th>\n",
       "      <th>avg_REB_PCT</th>\n",
       "      <th>avg_E_TM_TOV_PCT</th>\n",
       "      <th>avg_TM_TOV_PCT</th>\n",
       "      <th>avg_EFG_PCT</th>\n",
       "      <th>avg_TS_PCT</th>\n",
       "      <th>avg_USG_PCT</th>\n",
       "      <th>avg_E_USG_PCT</th>\n",
       "      <th>avg_E_PACE</th>\n",
       "      <th>avg_PACE</th>\n",
       "      <th>avg_PACE_PER40</th>\n",
       "      <th>avg_POSS</th>\n",
       "      <th>avg_PIE</th>\n",
       "    </tr>\n",
       "  </thead>\n",
       "  <tbody>\n",
       "    <tr>\n",
       "      <th>7</th>\n",
       "      <td>7.0</td>\n",
       "      <td>22018.0</td>\n",
       "      <td>Atlanta Hawks</td>\n",
       "      <td>2018-11-01</td>\n",
       "      <td>1.0</td>\n",
       "      <td>0.0</td>\n",
       "      <td>240.0</td>\n",
       "      <td>42.0</td>\n",
       "      <td>87.0</td>\n",
       "      <td>0.483</td>\n",
       "      <td>8.0</td>\n",
       "      <td>31.0</td>\n",
       "      <td>0.258</td>\n",
       "      <td>23.0</td>\n",
       "      <td>34.0</td>\n",
       "      <td>0.676</td>\n",
       "      <td>10.0</td>\n",
       "      <td>33.0</td>\n",
       "      <td>43.0</td>\n",
       "      <td>26.0</td>\n",
       "      <td>6.0</td>\n",
       "      <td>6.0</td>\n",
       "      <td>22.0</td>\n",
       "      <td>28.0</td>\n",
       "      <td>115.0</td>\n",
       "      <td>234.0</td>\n",
       "      <td>235.0</td>\n",
       "      <td>21800114.0</td>\n",
       "      <td>1.610613e+09</td>\n",
       "      <td>Hawks</td>\n",
       "      <td>ATL</td>\n",
       "      <td>Atlanta</td>\n",
       "      <td>240:00</td>\n",
       "      <td>100.9</td>\n",
       "      <td>101.8</td>\n",
       "      <td>125.8</td>\n",
       "      <td>130.4</td>\n",
       "      <td>-24.9</td>\n",
       "      <td>-28.6</td>\n",
       "      <td>0.619</td>\n",
       "      <td>1.18</td>\n",
       "      <td>17.3</td>\n",
       "      <td>0.280</td>\n",
       "      <td>0.729</td>\n",
       "      <td>0.500</td>\n",
       "      <td>19.305</td>\n",
       "      <td>19.5</td>\n",
       "      <td>0.529</td>\n",
       "      <td>0.564</td>\n",
       "      <td>1.0</td>\n",
       "      <td>0.200</td>\n",
       "      <td>115.02</td>\n",
       "      <td>112.5</td>\n",
       "      <td>93.75</td>\n",
       "      <td>113.0</td>\n",
       "      <td>0.359</td>\n",
       "      <td>3.0</td>\n",
       "      <td>22018.0</td>\n",
       "      <td>0.285714</td>\n",
       "      <td>0.285714</td>\n",
       "      <td>240.0</td>\n",
       "      <td>39.000000</td>\n",
       "      <td>88.857143</td>\n",
       "      <td>0.439571</td>\n",
       "      <td>13.714286</td>\n",
       "      <td>37.571429</td>\n",
       "      <td>0.364714</td>\n",
       "      <td>16.714286</td>\n",
       "      <td>23.571429</td>\n",
       "      <td>0.722143</td>\n",
       "      <td>9.142857</td>\n",
       "      <td>36.142857</td>\n",
       "      <td>45.285714</td>\n",
       "      <td>24.428571</td>\n",
       "      <td>8.000000</td>\n",
       "      <td>5.714286</td>\n",
       "      <td>18.571429</td>\n",
       "      <td>24.000000</td>\n",
       "      <td>108.428571</td>\n",
       "      <td>113.428571</td>\n",
       "      <td>114.428571</td>\n",
       "      <td>2.180005e+07</td>\n",
       "      <td>1.610613e+09</td>\n",
       "      <td>99.771429</td>\n",
       "      <td>100.257143</td>\n",
       "      <td>106.028571</td>\n",
       "      <td>107.557143</td>\n",
       "      <td>-6.257143</td>\n",
       "      <td>-7.285714</td>\n",
       "      <td>0.632286</td>\n",
       "      <td>1.440000</td>\n",
       "      <td>17.114286</td>\n",
       "      <td>0.210857</td>\n",
       "      <td>0.716143</td>\n",
       "      <td>0.463571</td>\n",
       "      <td>17.101143</td>\n",
       "      <td>17.128571</td>\n",
       "      <td>0.516571</td>\n",
       "      <td>0.546857</td>\n",
       "      <td>1.0</td>\n",
       "      <td>0.199000</td>\n",
       "      <td>109.402857</td>\n",
       "      <td>108.500000</td>\n",
       "      <td>90.417143</td>\n",
       "      <td>108.285714</td>\n",
       "      <td>0.452571</td>\n",
       "    </tr>\n",
       "    <tr>\n",
       "      <th>8</th>\n",
       "      <td>8.0</td>\n",
       "      <td>22018.0</td>\n",
       "      <td>Atlanta Hawks</td>\n",
       "      <td>2018-11-03</td>\n",
       "      <td>1.0</td>\n",
       "      <td>1.0</td>\n",
       "      <td>240.0</td>\n",
       "      <td>46.0</td>\n",
       "      <td>88.0</td>\n",
       "      <td>0.523</td>\n",
       "      <td>13.0</td>\n",
       "      <td>32.0</td>\n",
       "      <td>0.406</td>\n",
       "      <td>18.0</td>\n",
       "      <td>23.0</td>\n",
       "      <td>0.783</td>\n",
       "      <td>8.0</td>\n",
       "      <td>29.0</td>\n",
       "      <td>37.0</td>\n",
       "      <td>33.0</td>\n",
       "      <td>11.0</td>\n",
       "      <td>7.0</td>\n",
       "      <td>18.0</td>\n",
       "      <td>21.0</td>\n",
       "      <td>123.0</td>\n",
       "      <td>262.0</td>\n",
       "      <td>263.0</td>\n",
       "      <td>21800128.0</td>\n",
       "      <td>1.610613e+09</td>\n",
       "      <td>Hawks</td>\n",
       "      <td>ATL</td>\n",
       "      <td>Atlanta</td>\n",
       "      <td>240:00</td>\n",
       "      <td>113.8</td>\n",
       "      <td>120.6</td>\n",
       "      <td>116.3</td>\n",
       "      <td>118.0</td>\n",
       "      <td>-2.6</td>\n",
       "      <td>2.6</td>\n",
       "      <td>0.717</td>\n",
       "      <td>1.83</td>\n",
       "      <td>22.1</td>\n",
       "      <td>0.326</td>\n",
       "      <td>0.681</td>\n",
       "      <td>0.505</td>\n",
       "      <td>16.648</td>\n",
       "      <td>17.6</td>\n",
       "      <td>0.597</td>\n",
       "      <td>0.627</td>\n",
       "      <td>1.0</td>\n",
       "      <td>0.193</td>\n",
       "      <td>104.78</td>\n",
       "      <td>101.0</td>\n",
       "      <td>84.17</td>\n",
       "      <td>102.0</td>\n",
       "      <td>0.539</td>\n",
       "      <td>4.0</td>\n",
       "      <td>22018.0</td>\n",
       "      <td>0.428571</td>\n",
       "      <td>0.285714</td>\n",
       "      <td>240.0</td>\n",
       "      <td>39.142857</td>\n",
       "      <td>88.428571</td>\n",
       "      <td>0.443429</td>\n",
       "      <td>13.428571</td>\n",
       "      <td>36.857143</td>\n",
       "      <td>0.361857</td>\n",
       "      <td>17.857143</td>\n",
       "      <td>25.857143</td>\n",
       "      <td>0.699714</td>\n",
       "      <td>9.571429</td>\n",
       "      <td>35.428571</td>\n",
       "      <td>45.000000</td>\n",
       "      <td>25.428571</td>\n",
       "      <td>7.857143</td>\n",
       "      <td>6.142857</td>\n",
       "      <td>18.285714</td>\n",
       "      <td>23.714286</td>\n",
       "      <td>109.571429</td>\n",
       "      <td>144.000000</td>\n",
       "      <td>145.000000</td>\n",
       "      <td>2.180007e+07</td>\n",
       "      <td>1.610613e+09</td>\n",
       "      <td>100.885714</td>\n",
       "      <td>101.271429</td>\n",
       "      <td>108.828571</td>\n",
       "      <td>110.114286</td>\n",
       "      <td>-7.942857</td>\n",
       "      <td>-8.828571</td>\n",
       "      <td>0.654571</td>\n",
       "      <td>1.495714</td>\n",
       "      <td>17.657143</td>\n",
       "      <td>0.217286</td>\n",
       "      <td>0.721714</td>\n",
       "      <td>0.466857</td>\n",
       "      <td>16.875571</td>\n",
       "      <td>16.885714</td>\n",
       "      <td>0.519143</td>\n",
       "      <td>0.549429</td>\n",
       "      <td>1.0</td>\n",
       "      <td>0.199000</td>\n",
       "      <td>109.151429</td>\n",
       "      <td>108.500000</td>\n",
       "      <td>90.417143</td>\n",
       "      <td>108.285714</td>\n",
       "      <td>0.446000</td>\n",
       "    </tr>\n",
       "    <tr>\n",
       "      <th>9</th>\n",
       "      <td>9.0</td>\n",
       "      <td>22018.0</td>\n",
       "      <td>Atlanta Hawks</td>\n",
       "      <td>2018-11-06</td>\n",
       "      <td>0.0</td>\n",
       "      <td>0.0</td>\n",
       "      <td>240.0</td>\n",
       "      <td>41.0</td>\n",
       "      <td>85.0</td>\n",
       "      <td>0.482</td>\n",
       "      <td>6.0</td>\n",
       "      <td>30.0</td>\n",
       "      <td>0.200</td>\n",
       "      <td>14.0</td>\n",
       "      <td>18.0</td>\n",
       "      <td>0.778</td>\n",
       "      <td>7.0</td>\n",
       "      <td>30.0</td>\n",
       "      <td>37.0</td>\n",
       "      <td>22.0</td>\n",
       "      <td>13.0</td>\n",
       "      <td>9.0</td>\n",
       "      <td>22.0</td>\n",
       "      <td>18.0</td>\n",
       "      <td>102.0</td>\n",
       "      <td>304.0</td>\n",
       "      <td>305.0</td>\n",
       "      <td>21800149.0</td>\n",
       "      <td>1.610613e+09</td>\n",
       "      <td>Hawks</td>\n",
       "      <td>ATL</td>\n",
       "      <td>Atlanta</td>\n",
       "      <td>240:00</td>\n",
       "      <td>94.5</td>\n",
       "      <td>96.2</td>\n",
       "      <td>100.1</td>\n",
       "      <td>105.6</td>\n",
       "      <td>-5.6</td>\n",
       "      <td>-9.4</td>\n",
       "      <td>0.537</td>\n",
       "      <td>1.00</td>\n",
       "      <td>16.1</td>\n",
       "      <td>0.178</td>\n",
       "      <td>0.653</td>\n",
       "      <td>0.426</td>\n",
       "      <td>20.385</td>\n",
       "      <td>20.8</td>\n",
       "      <td>0.518</td>\n",
       "      <td>0.549</td>\n",
       "      <td>1.0</td>\n",
       "      <td>0.197</td>\n",
       "      <td>110.42</td>\n",
       "      <td>106.5</td>\n",
       "      <td>88.75</td>\n",
       "      <td>106.0</td>\n",
       "      <td>0.470</td>\n",
       "      <td>5.0</td>\n",
       "      <td>22018.0</td>\n",
       "      <td>0.571429</td>\n",
       "      <td>0.428571</td>\n",
       "      <td>240.0</td>\n",
       "      <td>39.857143</td>\n",
       "      <td>89.142857</td>\n",
       "      <td>0.447571</td>\n",
       "      <td>13.285714</td>\n",
       "      <td>37.142857</td>\n",
       "      <td>0.353143</td>\n",
       "      <td>17.428571</td>\n",
       "      <td>24.000000</td>\n",
       "      <td>0.728286</td>\n",
       "      <td>9.142857</td>\n",
       "      <td>35.428571</td>\n",
       "      <td>44.571429</td>\n",
       "      <td>26.285714</td>\n",
       "      <td>8.142857</td>\n",
       "      <td>6.428571</td>\n",
       "      <td>18.142857</td>\n",
       "      <td>22.285714</td>\n",
       "      <td>110.428571</td>\n",
       "      <td>174.857143</td>\n",
       "      <td>175.857143</td>\n",
       "      <td>2.180008e+07</td>\n",
       "      <td>1.610613e+09</td>\n",
       "      <td>101.500000</td>\n",
       "      <td>102.728571</td>\n",
       "      <td>108.414286</td>\n",
       "      <td>109.485714</td>\n",
       "      <td>-6.928571</td>\n",
       "      <td>-6.728571</td>\n",
       "      <td>0.662857</td>\n",
       "      <td>1.554286</td>\n",
       "      <td>18.157143</td>\n",
       "      <td>0.228143</td>\n",
       "      <td>0.716000</td>\n",
       "      <td>0.471429</td>\n",
       "      <td>16.713286</td>\n",
       "      <td>16.842857</td>\n",
       "      <td>0.521857</td>\n",
       "      <td>0.554429</td>\n",
       "      <td>1.0</td>\n",
       "      <td>0.198000</td>\n",
       "      <td>108.637143</td>\n",
       "      <td>107.714286</td>\n",
       "      <td>89.762857</td>\n",
       "      <td>107.714286</td>\n",
       "      <td>0.463286</td>\n",
       "    </tr>\n",
       "    <tr>\n",
       "      <th>10</th>\n",
       "      <td>10.0</td>\n",
       "      <td>22018.0</td>\n",
       "      <td>Atlanta Hawks</td>\n",
       "      <td>2018-11-07</td>\n",
       "      <td>1.0</td>\n",
       "      <td>0.0</td>\n",
       "      <td>240.0</td>\n",
       "      <td>37.0</td>\n",
       "      <td>92.0</td>\n",
       "      <td>0.402</td>\n",
       "      <td>11.0</td>\n",
       "      <td>38.0</td>\n",
       "      <td>0.289</td>\n",
       "      <td>22.0</td>\n",
       "      <td>29.0</td>\n",
       "      <td>0.759</td>\n",
       "      <td>15.0</td>\n",
       "      <td>30.0</td>\n",
       "      <td>45.0</td>\n",
       "      <td>26.0</td>\n",
       "      <td>5.0</td>\n",
       "      <td>9.0</td>\n",
       "      <td>17.0</td>\n",
       "      <td>30.0</td>\n",
       "      <td>107.0</td>\n",
       "      <td>316.0</td>\n",
       "      <td>317.0</td>\n",
       "      <td>21800155.0</td>\n",
       "      <td>1.610613e+09</td>\n",
       "      <td>Hawks</td>\n",
       "      <td>ATL</td>\n",
       "      <td>Atlanta</td>\n",
       "      <td>240:00</td>\n",
       "      <td>100.2</td>\n",
       "      <td>102.9</td>\n",
       "      <td>107.0</td>\n",
       "      <td>106.7</td>\n",
       "      <td>-6.8</td>\n",
       "      <td>-3.8</td>\n",
       "      <td>0.703</td>\n",
       "      <td>1.53</td>\n",
       "      <td>17.6</td>\n",
       "      <td>0.310</td>\n",
       "      <td>0.667</td>\n",
       "      <td>0.472</td>\n",
       "      <td>15.924</td>\n",
       "      <td>16.3</td>\n",
       "      <td>0.462</td>\n",
       "      <td>0.511</td>\n",
       "      <td>1.0</td>\n",
       "      <td>0.195</td>\n",
       "      <td>105.72</td>\n",
       "      <td>104.5</td>\n",
       "      <td>87.08</td>\n",
       "      <td>104.0</td>\n",
       "      <td>0.483</td>\n",
       "      <td>6.0</td>\n",
       "      <td>22018.0</td>\n",
       "      <td>0.571429</td>\n",
       "      <td>0.285714</td>\n",
       "      <td>240.0</td>\n",
       "      <td>38.857143</td>\n",
       "      <td>87.285714</td>\n",
       "      <td>0.446429</td>\n",
       "      <td>11.000000</td>\n",
       "      <td>34.714286</td>\n",
       "      <td>0.314857</td>\n",
       "      <td>17.285714</td>\n",
       "      <td>23.857143</td>\n",
       "      <td>0.726714</td>\n",
       "      <td>8.857143</td>\n",
       "      <td>34.714286</td>\n",
       "      <td>43.571429</td>\n",
       "      <td>24.857143</td>\n",
       "      <td>8.714286</td>\n",
       "      <td>6.714286</td>\n",
       "      <td>19.571429</td>\n",
       "      <td>21.857143</td>\n",
       "      <td>106.000000</td>\n",
       "      <td>207.142857</td>\n",
       "      <td>208.142857</td>\n",
       "      <td>2.180010e+07</td>\n",
       "      <td>1.610613e+09</td>\n",
       "      <td>97.628571</td>\n",
       "      <td>98.542857</td>\n",
       "      <td>108.057143</td>\n",
       "      <td>109.471429</td>\n",
       "      <td>-10.442857</td>\n",
       "      <td>-10.900000</td>\n",
       "      <td>0.644286</td>\n",
       "      <td>1.315714</td>\n",
       "      <td>17.414286</td>\n",
       "      <td>0.214286</td>\n",
       "      <td>0.715714</td>\n",
       "      <td>0.464857</td>\n",
       "      <td>18.057857</td>\n",
       "      <td>18.200000</td>\n",
       "      <td>0.509857</td>\n",
       "      <td>0.543571</td>\n",
       "      <td>1.0</td>\n",
       "      <td>0.198143</td>\n",
       "      <td>108.874286</td>\n",
       "      <td>107.857143</td>\n",
       "      <td>89.881429</td>\n",
       "      <td>107.714286</td>\n",
       "      <td>0.442143</td>\n",
       "    </tr>\n",
       "    <tr>\n",
       "      <th>11</th>\n",
       "      <td>11.0</td>\n",
       "      <td>22018.0</td>\n",
       "      <td>Atlanta Hawks</td>\n",
       "      <td>2018-11-09</td>\n",
       "      <td>1.0</td>\n",
       "      <td>0.0</td>\n",
       "      <td>240.0</td>\n",
       "      <td>36.0</td>\n",
       "      <td>79.0</td>\n",
       "      <td>0.456</td>\n",
       "      <td>7.0</td>\n",
       "      <td>28.0</td>\n",
       "      <td>0.250</td>\n",
       "      <td>30.0</td>\n",
       "      <td>40.0</td>\n",
       "      <td>0.750</td>\n",
       "      <td>9.0</td>\n",
       "      <td>44.0</td>\n",
       "      <td>53.0</td>\n",
       "      <td>17.0</td>\n",
       "      <td>6.0</td>\n",
       "      <td>2.0</td>\n",
       "      <td>16.0</td>\n",
       "      <td>21.0</td>\n",
       "      <td>109.0</td>\n",
       "      <td>344.0</td>\n",
       "      <td>345.0</td>\n",
       "      <td>21800169.0</td>\n",
       "      <td>1.610613e+09</td>\n",
       "      <td>Hawks</td>\n",
       "      <td>ATL</td>\n",
       "      <td>Atlanta</td>\n",
       "      <td>240:00</td>\n",
       "      <td>105.2</td>\n",
       "      <td>103.8</td>\n",
       "      <td>116.6</td>\n",
       "      <td>118.1</td>\n",
       "      <td>-11.4</td>\n",
       "      <td>-14.3</td>\n",
       "      <td>0.472</td>\n",
       "      <td>1.06</td>\n",
       "      <td>13.1</td>\n",
       "      <td>0.234</td>\n",
       "      <td>0.786</td>\n",
       "      <td>0.534</td>\n",
       "      <td>15.444</td>\n",
       "      <td>15.2</td>\n",
       "      <td>0.500</td>\n",
       "      <td>0.564</td>\n",
       "      <td>1.0</td>\n",
       "      <td>0.202</td>\n",
       "      <td>104.98</td>\n",
       "      <td>105.0</td>\n",
       "      <td>87.50</td>\n",
       "      <td>105.0</td>\n",
       "      <td>0.463</td>\n",
       "      <td>7.0</td>\n",
       "      <td>22018.0</td>\n",
       "      <td>0.571429</td>\n",
       "      <td>0.142857</td>\n",
       "      <td>240.0</td>\n",
       "      <td>38.857143</td>\n",
       "      <td>87.428571</td>\n",
       "      <td>0.445714</td>\n",
       "      <td>10.428571</td>\n",
       "      <td>34.714286</td>\n",
       "      <td>0.299714</td>\n",
       "      <td>17.285714</td>\n",
       "      <td>23.571429</td>\n",
       "      <td>0.733714</td>\n",
       "      <td>9.571429</td>\n",
       "      <td>32.714286</td>\n",
       "      <td>42.285714</td>\n",
       "      <td>24.571429</td>\n",
       "      <td>8.571429</td>\n",
       "      <td>7.142857</td>\n",
       "      <td>19.857143</td>\n",
       "      <td>22.428571</td>\n",
       "      <td>105.428571</td>\n",
       "      <td>236.571429</td>\n",
       "      <td>237.571429</td>\n",
       "      <td>2.180012e+07</td>\n",
       "      <td>1.610613e+09</td>\n",
       "      <td>97.485714</td>\n",
       "      <td>98.828571</td>\n",
       "      <td>109.885714</td>\n",
       "      <td>111.442857</td>\n",
       "      <td>-12.428571</td>\n",
       "      <td>-12.600000</td>\n",
       "      <td>0.636571</td>\n",
       "      <td>1.267143</td>\n",
       "      <td>17.214286</td>\n",
       "      <td>0.230571</td>\n",
       "      <td>0.697143</td>\n",
       "      <td>0.460286</td>\n",
       "      <td>18.378286</td>\n",
       "      <td>18.585714</td>\n",
       "      <td>0.506000</td>\n",
       "      <td>0.540857</td>\n",
       "      <td>1.0</td>\n",
       "      <td>0.197143</td>\n",
       "      <td>108.257143</td>\n",
       "      <td>106.928571</td>\n",
       "      <td>89.107143</td>\n",
       "      <td>106.857143</td>\n",
       "      <td>0.434857</td>\n",
       "    </tr>\n",
       "  </tbody>\n",
       "</table>\n",
       "</div>"
      ],
      "text/plain": [
       "    index  SEASON_ID      TEAM_NAME  GAME_DATE  MATCHUP   WL    MIN   FGM  \\\n",
       "7     7.0    22018.0  Atlanta Hawks 2018-11-01      1.0  0.0  240.0  42.0   \n",
       "8     8.0    22018.0  Atlanta Hawks 2018-11-03      1.0  1.0  240.0  46.0   \n",
       "9     9.0    22018.0  Atlanta Hawks 2018-11-06      0.0  0.0  240.0  41.0   \n",
       "10   10.0    22018.0  Atlanta Hawks 2018-11-07      1.0  0.0  240.0  37.0   \n",
       "11   11.0    22018.0  Atlanta Hawks 2018-11-09      1.0  0.0  240.0  36.0   \n",
       "\n",
       "     FGA  FG_PCT  FG3M  FG3A  FG3_PCT   FTM   FTA  FT_PCT  OREB  DREB   REB  \\\n",
       "7   87.0   0.483   8.0  31.0    0.258  23.0  34.0   0.676  10.0  33.0  43.0   \n",
       "8   88.0   0.523  13.0  32.0    0.406  18.0  23.0   0.783   8.0  29.0  37.0   \n",
       "9   85.0   0.482   6.0  30.0    0.200  14.0  18.0   0.778   7.0  30.0  37.0   \n",
       "10  92.0   0.402  11.0  38.0    0.289  22.0  29.0   0.759  15.0  30.0  45.0   \n",
       "11  79.0   0.456   7.0  28.0    0.250  30.0  40.0   0.750   9.0  44.0  53.0   \n",
       "\n",
       "     AST   STL  BLK   TOV    PF    PTS  level_0.1  index.1   GAME_ID.1  \\\n",
       "7   26.0   6.0  6.0  22.0  28.0  115.0      234.0    235.0  21800114.0   \n",
       "8   33.0  11.0  7.0  18.0  21.0  123.0      262.0    263.0  21800128.0   \n",
       "9   22.0  13.0  9.0  22.0  18.0  102.0      304.0    305.0  21800149.0   \n",
       "10  26.0   5.0  9.0  17.0  30.0  107.0      316.0    317.0  21800155.0   \n",
       "11  17.0   6.0  2.0  16.0  21.0  109.0      344.0    345.0  21800169.0   \n",
       "\n",
       "       TEAM_ID.1 TEAM_NAME.1 TEAM_ABBREVIATION.1 TEAM_CITY   MIN.1  \\\n",
       "7   1.610613e+09       Hawks                 ATL   Atlanta  240:00   \n",
       "8   1.610613e+09       Hawks                 ATL   Atlanta  240:00   \n",
       "9   1.610613e+09       Hawks                 ATL   Atlanta  240:00   \n",
       "10  1.610613e+09       Hawks                 ATL   Atlanta  240:00   \n",
       "11  1.610613e+09       Hawks                 ATL   Atlanta  240:00   \n",
       "\n",
       "    E_OFF_RATING  OFF_RATING  E_DEF_RATING  DEF_RATING  E_NET_RATING  \\\n",
       "7          100.9       101.8         125.8       130.4         -24.9   \n",
       "8          113.8       120.6         116.3       118.0          -2.6   \n",
       "9           94.5        96.2         100.1       105.6          -5.6   \n",
       "10         100.2       102.9         107.0       106.7          -6.8   \n",
       "11         105.2       103.8         116.6       118.1         -11.4   \n",
       "\n",
       "    NET_RATING  AST_PCT  AST_TOV  AST_RATIO  OREB_PCT  DREB_PCT  REB_PCT  \\\n",
       "7        -28.6    0.619     1.18       17.3     0.280     0.729    0.500   \n",
       "8          2.6    0.717     1.83       22.1     0.326     0.681    0.505   \n",
       "9         -9.4    0.537     1.00       16.1     0.178     0.653    0.426   \n",
       "10        -3.8    0.703     1.53       17.6     0.310     0.667    0.472   \n",
       "11       -14.3    0.472     1.06       13.1     0.234     0.786    0.534   \n",
       "\n",
       "    E_TM_TOV_PCT  TM_TOV_PCT  EFG_PCT  TS_PCT  USG_PCT  E_USG_PCT  E_PACE  \\\n",
       "7         19.305        19.5    0.529   0.564      1.0      0.200  115.02   \n",
       "8         16.648        17.6    0.597   0.627      1.0      0.193  104.78   \n",
       "9         20.385        20.8    0.518   0.549      1.0      0.197  110.42   \n",
       "10        15.924        16.3    0.462   0.511      1.0      0.195  105.72   \n",
       "11        15.444        15.2    0.500   0.564      1.0      0.202  104.98   \n",
       "\n",
       "     PACE  PACE_PER40   POSS    PIE  avg_index  avg_SEASON_ID  avg_MATCHUP  \\\n",
       "7   112.5       93.75  113.0  0.359        3.0        22018.0     0.285714   \n",
       "8   101.0       84.17  102.0  0.539        4.0        22018.0     0.428571   \n",
       "9   106.5       88.75  106.0  0.470        5.0        22018.0     0.571429   \n",
       "10  104.5       87.08  104.0  0.483        6.0        22018.0     0.571429   \n",
       "11  105.0       87.50  105.0  0.463        7.0        22018.0     0.571429   \n",
       "\n",
       "      avg_WL  avg_MIN    avg_FGM    avg_FGA  avg_FG_PCT   avg_FG3M   avg_FG3A  \\\n",
       "7   0.285714    240.0  39.000000  88.857143    0.439571  13.714286  37.571429   \n",
       "8   0.285714    240.0  39.142857  88.428571    0.443429  13.428571  36.857143   \n",
       "9   0.428571    240.0  39.857143  89.142857    0.447571  13.285714  37.142857   \n",
       "10  0.285714    240.0  38.857143  87.285714    0.446429  11.000000  34.714286   \n",
       "11  0.142857    240.0  38.857143  87.428571    0.445714  10.428571  34.714286   \n",
       "\n",
       "    avg_FG3_PCT    avg_FTM    avg_FTA  avg_FT_PCT  avg_OREB   avg_DREB  \\\n",
       "7      0.364714  16.714286  23.571429    0.722143  9.142857  36.142857   \n",
       "8      0.361857  17.857143  25.857143    0.699714  9.571429  35.428571   \n",
       "9      0.353143  17.428571  24.000000    0.728286  9.142857  35.428571   \n",
       "10     0.314857  17.285714  23.857143    0.726714  8.857143  34.714286   \n",
       "11     0.299714  17.285714  23.571429    0.733714  9.571429  32.714286   \n",
       "\n",
       "      avg_REB    avg_AST   avg_STL   avg_BLK    avg_TOV     avg_PF  \\\n",
       "7   45.285714  24.428571  8.000000  5.714286  18.571429  24.000000   \n",
       "8   45.000000  25.428571  7.857143  6.142857  18.285714  23.714286   \n",
       "9   44.571429  26.285714  8.142857  6.428571  18.142857  22.285714   \n",
       "10  43.571429  24.857143  8.714286  6.714286  19.571429  21.857143   \n",
       "11  42.285714  24.571429  8.571429  7.142857  19.857143  22.428571   \n",
       "\n",
       "       avg_PTS  avg_level_0.1  avg_index.1  avg_GAME_ID.1  avg_TEAM_ID.1  \\\n",
       "7   108.428571     113.428571   114.428571   2.180005e+07   1.610613e+09   \n",
       "8   109.571429     144.000000   145.000000   2.180007e+07   1.610613e+09   \n",
       "9   110.428571     174.857143   175.857143   2.180008e+07   1.610613e+09   \n",
       "10  106.000000     207.142857   208.142857   2.180010e+07   1.610613e+09   \n",
       "11  105.428571     236.571429   237.571429   2.180012e+07   1.610613e+09   \n",
       "\n",
       "    avg_E_OFF_RATING  avg_OFF_RATING  avg_E_DEF_RATING  avg_DEF_RATING  \\\n",
       "7          99.771429      100.257143        106.028571      107.557143   \n",
       "8         100.885714      101.271429        108.828571      110.114286   \n",
       "9         101.500000      102.728571        108.414286      109.485714   \n",
       "10         97.628571       98.542857        108.057143      109.471429   \n",
       "11         97.485714       98.828571        109.885714      111.442857   \n",
       "\n",
       "    avg_E_NET_RATING  avg_NET_RATING  avg_AST_PCT  avg_AST_TOV  avg_AST_RATIO  \\\n",
       "7          -6.257143       -7.285714     0.632286     1.440000      17.114286   \n",
       "8          -7.942857       -8.828571     0.654571     1.495714      17.657143   \n",
       "9          -6.928571       -6.728571     0.662857     1.554286      18.157143   \n",
       "10        -10.442857      -10.900000     0.644286     1.315714      17.414286   \n",
       "11        -12.428571      -12.600000     0.636571     1.267143      17.214286   \n",
       "\n",
       "    avg_OREB_PCT  avg_DREB_PCT  avg_REB_PCT  avg_E_TM_TOV_PCT  avg_TM_TOV_PCT  \\\n",
       "7       0.210857      0.716143     0.463571         17.101143       17.128571   \n",
       "8       0.217286      0.721714     0.466857         16.875571       16.885714   \n",
       "9       0.228143      0.716000     0.471429         16.713286       16.842857   \n",
       "10      0.214286      0.715714     0.464857         18.057857       18.200000   \n",
       "11      0.230571      0.697143     0.460286         18.378286       18.585714   \n",
       "\n",
       "    avg_EFG_PCT  avg_TS_PCT  avg_USG_PCT  avg_E_USG_PCT  avg_E_PACE  \\\n",
       "7      0.516571    0.546857          1.0       0.199000  109.402857   \n",
       "8      0.519143    0.549429          1.0       0.199000  109.151429   \n",
       "9      0.521857    0.554429          1.0       0.198000  108.637143   \n",
       "10     0.509857    0.543571          1.0       0.198143  108.874286   \n",
       "11     0.506000    0.540857          1.0       0.197143  108.257143   \n",
       "\n",
       "      avg_PACE  avg_PACE_PER40    avg_POSS   avg_PIE  \n",
       "7   108.500000       90.417143  108.285714  0.452571  \n",
       "8   108.500000       90.417143  108.285714  0.446000  \n",
       "9   107.714286       89.762857  107.714286  0.463286  \n",
       "10  107.857143       89.881429  107.714286  0.442143  \n",
       "11  106.928571       89.107143  106.857143  0.434857  "
      ]
     },
     "execution_count": 582,
     "metadata": {},
     "output_type": "execute_result"
    }
   ],
   "source": [
    "final.head()"
   ]
  },
  {
   "cell_type": "code",
   "execution_count": 587,
   "id": "ccf14d95",
   "metadata": {},
   "outputs": [],
   "source": [
    "final = final.drop(['index'], axis=1)\n",
    "final = final.reset_index()"
   ]
  },
  {
   "cell_type": "markdown",
   "id": "620d3cd3",
   "metadata": {},
   "source": [
    "### 1.8 - Exporting Dataset to CSV for Later Use"
   ]
  },
  {
   "cell_type": "code",
   "execution_count": 589,
   "id": "5e4d6094",
   "metadata": {},
   "outputs": [],
   "source": [
    "final.to_csv('final.csv', index=False)"
   ]
  }
 ],
 "metadata": {
  "kernelspec": {
   "display_name": "Python 3",
   "language": "python",
   "name": "python3"
  },
  "language_info": {
   "codemirror_mode": {
    "name": "ipython",
    "version": 3
   },
   "file_extension": ".py",
   "mimetype": "text/x-python",
   "name": "python",
   "nbconvert_exporter": "python",
   "pygments_lexer": "ipython3",
   "version": "3.8.8"
  }
 },
 "nbformat": 4,
 "nbformat_minor": 5
}
